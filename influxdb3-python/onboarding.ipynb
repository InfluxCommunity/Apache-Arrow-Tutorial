{
 "cells": [
  {
   "attachments": {},
   "cell_type": "markdown",
   "metadata": {},
   "source": [
    "# Query Example"
   ]
  },
  {
   "cell_type": "code",
   "execution_count": 1,
   "metadata": {},
   "outputs": [],
   "source": [
    "import os, time\n",
    "from influxdb_client_3 import InfluxDBClient3, Point\n",
    "\n",
    "token = \"\"\n",
    "org = 'Jay-IOx'\n",
    "host = 'eu-central-1-1.aws.cloud2.influxdata.com'\n",
    "\n",
    "client = InfluxDBClient3(host=host, token=token, org=org)"
   ]
  },
  {
   "cell_type": "code",
   "execution_count": 2,
   "metadata": {},
   "outputs": [
    {
     "name": "stdout",
     "output_type": "stream",
     "text": [
      "Complete. Return to the InfluxDB UI.\n"
     ]
    }
   ],
   "source": [
    "database=\"python\"\n",
    "\n",
    "data = {\n",
    "  \"point1\": {\n",
    "    \"location\": \"Klamath\",\n",
    "    \"species\": \"bees\",\n",
    "    \"count\": 23,\n",
    "  },\n",
    "  \"point2\": {\n",
    "    \"location\": \"Portland\",\n",
    "    \"species\": \"ants\",\n",
    "    \"count\": 30,\n",
    "  },\n",
    "  \"point3\": {\n",
    "    \"location\": \"Klamath\",\n",
    "    \"species\": \"bees\",\n",
    "    \"count\": 28,\n",
    "  },\n",
    "  \"point4\": {\n",
    "    \"location\": \"Portland\",\n",
    "    \"species\": \"ants\",\n",
    "    \"count\": 32,\n",
    "  },\n",
    "  \"point5\": {\n",
    "    \"location\": \"Klamath\",\n",
    "    \"species\": \"bees\",\n",
    "    \"count\": 29,\n",
    "  },\n",
    "  \"point6\": {\n",
    "    \"location\": \"Portland\",\n",
    "    \"species\": \"ants\",\n",
    "    \"count\": 40,\n",
    "  },\n",
    "}\n",
    "\n",
    "for key in data:\n",
    "  point = (\n",
    "    Point(\"census\")\n",
    "    .tag(\"location\", data[key][\"location\"])\n",
    "    .field(data[key][\"species\"], data[key][\"count\"])\n",
    "  )\n",
    "  client.write(database=database, record=point)\n",
    "  time.sleep(1) # separate points by 1 second\n",
    "\n",
    "print(\"Complete. Return to the InfluxDB UI.\")\n",
    "    \n"
   ]
  },
  {
   "cell_type": "code",
   "execution_count": 4,
   "metadata": {},
   "outputs": [
    {
     "name": "stdout",
     "output_type": "stream",
     "text": [
      "   ants  bees  location                          time\n",
      "0   NaN  23.0   Klamath 2023-08-09 10:13:46.302280197\n",
      "3  30.0   NaN  Portland 2023-08-09 10:13:47.468192006\n",
      "1   NaN  28.0   Klamath 2023-08-09 10:13:48.619137933\n",
      "4  32.0   NaN  Portland 2023-08-09 10:13:49.688372628\n",
      "2   NaN  29.0   Klamath 2023-08-09 10:13:50.819573138\n",
      "5  40.0   NaN  Portland 2023-08-09 10:13:51.893667576\n"
     ]
    }
   ],
   "source": [
    "query = \"\"\"SELECT *\n",
    "FROM census\n",
    "WHERE time >= now() - interval '24 hours'\n",
    "AND ('bees' IS NOT NULL OR 'ants' IS NOT NULL)\"\"\"\n",
    "\n",
    "# Execute the query\n",
    "table = client.query(query=query, database=database, language='sql')\n",
    "\n",
    "# Convert to dataframe\n",
    "df = table.to_pandas().sort_values(by=\"time\")\n",
    "print(df)"
   ]
  },
  {
   "cell_type": "code",
   "execution_count": 17,
   "metadata": {},
   "outputs": [
    {
     "name": "stdout",
     "output_type": "stream",
     "text": [
      "  iox::measurement       time  ant_mean   bee_mean\n",
      "0           census 1970-01-01      34.0  26.666667\n"
     ]
    }
   ],
   "source": [
    "query = \"\"\"SELECT mean(ants) as ant_mean, mean(bees) as bee_mean\n",
    "FROM census\n",
    "WHERE time >= now() - 24h\"\"\"\n",
    "\n",
    "# Execute the query\n",
    "table = client.query(query=query, database=database, language='influxql')\n",
    "\n",
    "# Convert to dataframe\n",
    "df2 = table.to_pandas()\n",
    "print(df2)"
   ]
  },
  {
   "cell_type": "code",
   "execution_count": 35,
   "metadata": {},
   "outputs": [
    {
     "name": "stdout",
     "output_type": "stream",
     "text": [
      "mem,location=europe level=1i\n"
     ]
    }
   ],
   "source": [
    "\n",
    "\n",
    "p = point = Point.measurement(\"mem\").tag(\"location\", \"europe\").field(\"level\", 1)\n",
    "\n",
    "print(p)"
   ]
  }
 ],
 "metadata": {
  "kernelspec": {
   "display_name": ".venv",
   "language": "python",
   "name": "python3"
  },
  "language_info": {
   "codemirror_mode": {
    "name": "ipython",
    "version": 3
   },
   "file_extension": ".py",
   "mimetype": "text/x-python",
   "name": "python",
   "nbconvert_exporter": "python",
   "pygments_lexer": "ipython3",
   "version": "3.11.5"
  },
  "orig_nbformat": 4
 },
 "nbformat": 4,
 "nbformat_minor": 2
}
