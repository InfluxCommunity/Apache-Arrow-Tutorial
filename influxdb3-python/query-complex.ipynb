{
 "cells": [
  {
   "attachments": {},
   "cell_type": "markdown",
   "metadata": {},
   "source": [
    "# Query Example"
   ]
  },
  {
   "cell_type": "code",
   "execution_count": 4,
   "metadata": {},
   "outputs": [],
   "source": [
    "from influxdb_client_3 import InfluxDBClient3, Point, flight_client_options\n",
    "import pandas as pd\n",
    "import pyarrow.parquet as pq\n",
    "import polars as pl\n",
    "import datetime"
   ]
  },
  {
   "cell_type": "code",
   "execution_count": 5,
   "metadata": {},
   "outputs": [],
   "source": [
    "token = ''\n",
    "host = 'eu-central-1-1.aws.cloud2.influxdata.com'    \n",
    "org = 'Jay-IOx'\n",
    "db = 'pokemon-codex'\n",
    "\n",
    "client = InfluxDBClient3(token=token,\n",
    "                         host=host,\n",
    "                         org=org,\n",
    "                         database=db) \n",
    "\n",
    "\n",
    "now = datetime.datetime.now(datetime.timezone.utc)\n",
    "\n",
    "data = Point(\"caught\").tag(\"trainer\", \"ash\").tag(\"id\", \"0006\").tag(\"num\", \"1\")\\\n",
    "                                             .field(\"caught\", \"charizard\")\\\n",
    "                                             .field(\"level\", 10).field(\"attack\", 30)\\\n",
    "                                             .field(\"defense\", 40).field(\"hp\", 200)\\\n",
    "                                             .field(\"speed\", 10)\\\n",
    "                                             .field(\"type1\", \"fire\").field(\"type2\", \"flying\")\\\n",
    "                                             .time(now)\n",
    "\n",
    "\n",
    "\n",
    "try:\n",
    "    client.write(data)\n",
    "except Exception as e:\n",
    "    print(f\"Error writing point: {e}\")\n"
   ]
  },
  {
   "cell_type": "code",
   "execution_count": 8,
   "metadata": {},
   "outputs": [
    {
     "name": "stdout",
     "output_type": "stream",
     "text": [
      "iox::measurement: string not null\n",
      "time: timestamp[ns] not null\n",
      "  -- field metadata --\n",
      "  iox::column::type: 'iox::column_type::timestamp'\n",
      "attack: int64\n",
      "  -- field metadata --\n",
      "  iox::column::type: 'iox::column_type::field::integer'\n",
      "caught: string\n",
      "  -- field metadata --\n",
      "  iox::column::type: 'iox::column_type::field::string'\n",
      "defense: int64\n",
      "  -- field metadata --\n",
      "  iox::column::type: 'iox::column_type::field::integer'\n",
      "hp: int64\n",
      "  -- field metadata --\n",
      "  iox::column::type: 'iox::column_type::field::integer'\n",
      "id: string\n",
      "  -- field metadata --\n",
      "  iox::column::type: 'iox::column_type::tag'\n",
      "level: int64\n",
      "  -- field metadata --\n",
      "  iox::column::type: 'iox::column_type::field::integer'\n",
      "name: string\n",
      "  -- field metadata --\n",
      "  iox::column::type: 'iox::column_type::field::string'\n",
      "num: string\n",
      "  -- field metadata --\n",
      "  iox::column::type: 'iox::column_type::tag'\n",
      "speed: int64\n",
      "  -- field metadata --\n",
      "  iox::column::type: 'iox::column_type::field::integer'\n",
      "trainer: string\n",
      "  -- field metadata --\n",
      "  iox::column::type: 'iox::column_type::tag'\n",
      "type1: string\n",
      "  -- field metadata --\n",
      "  iox::column::type: 'iox::column_type::field::string'\n",
      "type2: string\n",
      "  -- field metadata --\n",
      "  iox::column::type: 'iox::column_type::field::string'\n",
      "-- schema metadata --\n",
      "iox::influxql::group_key::metadata: '{}'\n"
     ]
    }
   ],
   "source": [
    "\n",
    "query = '''\n",
    "    SELECT * FROM caught WHERE time >= now()  - 2m\n",
    "    '''\n",
    "table = client.query(query=query, language=\"influxql\", mode=\"schema\")\n",
    "\n",
    "\n",
    "print(table)\n",
    "\n",
    "\n",
    "\n"
   ]
  },
  {
   "cell_type": "code",
   "execution_count": 12,
   "metadata": {},
   "outputs": [
    {
     "data": {
      "text/plain": [
       "<module 'pandas' from '/Users/jayclifford/Documents/repos/Apache-Arrow-Tutorial/.venv/lib/python3.11/site-packages/pandas/__init__.py'>"
      ]
     },
     "metadata": {},
     "output_type": "display_data"
    }
   ],
   "source": [
    "display(pd)"
   ]
  }
 ],
 "metadata": {
  "kernelspec": {
   "display_name": ".venv",
   "language": "python",
   "name": "python3"
  },
  "language_info": {
   "codemirror_mode": {
    "name": "ipython",
    "version": 3
   },
   "file_extension": ".py",
   "mimetype": "text/x-python",
   "name": "python",
   "nbconvert_exporter": "python",
   "pygments_lexer": "ipython3",
   "version": "3.11.5"
  },
  "orig_nbformat": 4
 },
 "nbformat": 4,
 "nbformat_minor": 2
}
