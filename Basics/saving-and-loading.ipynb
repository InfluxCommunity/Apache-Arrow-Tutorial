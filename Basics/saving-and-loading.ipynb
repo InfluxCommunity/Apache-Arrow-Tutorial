{
 "cells": [
  {
   "cell_type": "code",
   "execution_count": null,
   "metadata": {},
   "outputs": [],
   "source": [
    "import pyarrow as pa\n",
    "import pyarrow.parquet as pq\n",
    "import pandas as pd\n",
    "\n",
    "# Create a array from a list of values\n",
    "animal = pa.array([\"sheep\", \"cows\", \"horses\", \"foxes\"], type=pa.string())\n",
    "count = pa.array([12, 5, 2, 1], type=pa.int8())\n",
    "year = pa.array([2022, 2022, 2022, 2022], type=pa.int16())"
   ]
  },
  {
   "cell_type": "code",
   "execution_count": null,
   "metadata": {},
   "outputs": [],
   "source": [
    "# Create a table from the arrays\n",
    "table = pa.Table.from_arrays([animal, count, year], names=['animal', 'count', 'year'])"
   ]
  },
  {
   "cell_type": "code",
   "execution_count": null,
   "metadata": {},
   "outputs": [],
   "source": [
    "# Save the table to a Parquet file\n",
    "pq.write_table(table, 'example.parquet')"
   ]
  },
  {
   "cell_type": "code",
   "execution_count": null,
   "metadata": {},
   "outputs": [],
   "source": [
    "# Load the table from the Parquet file\n",
    "table2 = pq.read_table('example.parquet')\n",
    "table2 = table2.to_pandas()\n",
    "print(table2)"
   ]
  },
  {
   "cell_type": "code",
   "execution_count": null,
   "metadata": {},
   "outputs": [],
   "source": [
    "dataframe = pd.read_parquet('example.parquet')\n",
    "print(dataframe)"
   ]
  }
 ],
 "metadata": {
  "kernelspec": {
   "display_name": ".venv",
   "language": "python",
   "name": "python3"
  },
  "language_info": {
   "codemirror_mode": {
    "name": "ipython",
    "version": 3
   },
   "file_extension": ".py",
   "mimetype": "text/x-python",
   "name": "python",
   "nbconvert_exporter": "python",
   "pygments_lexer": "ipython3",
   "version": "3.10.10"
  },
  "orig_nbformat": 4,
  "vscode": {
   "interpreter": {
    "hash": "65b00992f56ac2558ff834676b4d22d2fe0365bdc5b4fa36d6cd9a9b2b9e3d6a"
   }
  }
 },
 "nbformat": 4,
 "nbformat_minor": 2
}
