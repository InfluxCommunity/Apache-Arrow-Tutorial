{
 "cells": [
  {
   "attachments": {},
   "cell_type": "markdown",
   "metadata": {},
   "source": [
    "# ML Model Example\n",
    "\n",
    "This example provides a simply query tutorial for InfluxDB Cloud Dedicated. "
   ]
  },
  {
   "cell_type": "code",
   "execution_count": 6,
   "metadata": {},
   "outputs": [],
   "source": [
    "import influxdb_client_3 as InfluxDBClient3\n",
    "from IPython.display import display, HTML\n",
    "import pandas as pd\n",
    "import numpy as np\n",
    "import pandas as pd\n",
    "import pyarrow as pa\n",
    "import pyarrow.parquet as pq"
   ]
  },
  {
   "attachments": {},
   "cell_type": "markdown",
   "metadata": {},
   "source": [
    "Next we provide our connection credentials to the InfluxDB 3.0 instance. \n",
    "`token` - scoped to the bucket you wish to query from.\n",
    "`host` - the host of your cloud dedicated instance.\n",
    "`client` - host wrapped in the flightclient class. "
   ]
  },
  {
   "cell_type": "code",
   "execution_count": 7,
   "metadata": {},
   "outputs": [],
   "source": [
    "token = ''\n",
    "host = 'eu-central-1-1.aws.cloud2.influxdata.com'    \n",
    "org = 'Jay-IOx'\n",
    "db = 'factory'\n",
    "\n",
    "client = InfluxDBClient3.InfluxDBClient3(token=token,\n",
    "                         host=host,\n",
    "                         org=org,\n",
    "                         database=db) \n",
    "    \n"
   ]
  },
  {
   "cell_type": "code",
   "execution_count": 8,
   "metadata": {},
   "outputs": [
    {
     "name": "stdout",
     "output_type": "stream",
     "text": [
      "pyarrow.Table\n",
      "iox::measurement: string not null\n",
      "time: timestamp[ns] not null\n",
      "vibration: double\n",
      "----\n",
      "iox::measurement: [[\"machine_data\",\"machine_data\",\"machine_data\",\"machine_data\",\"machine_data\",...,\"machine_data\",\"machine_data\",\"machine_data\",\"machine_data\",\"machine_data\"]]\n",
      "time: [[2023-06-28 09:54:35.296288245,2023-06-28 09:54:35.614346443,2023-06-28 09:54:36.614285038,2023-06-28 09:54:37.614883179,2023-06-28 09:54:38.615056141,...,2023-06-28 09:58:16.858854302,2023-06-28 09:58:17.859096470,2023-06-28 09:58:18.859357894,2023-06-28 09:58:19.859761125,2023-06-28 09:58:20.860034308]]\n",
      "vibration: [[89,60,67,70,76,...,82,86,86,82,85]]\n"
     ]
    }
   ],
   "source": [
    "query = \"SELECT vibration FROM machine_data WHERE \\\"machineID\\\" = 'machine2' AND time >= now() - 50m\"\n",
    "table = client.query(query=query, language=\"influxql\")\n",
    "print(table)"
   ]
  },
  {
   "attachments": {},
   "cell_type": "markdown",
   "metadata": {},
   "source": [
    "The `query_tools` function provides a wrapper to execution of a query agaisnt InfluxDB usinf flight. This function requires 3 paramters.\n",
    "`database`- this specifies the database you wish to direct your query at.\n",
    "`query` - This accepts a string literal of the query you wish to perform (SQL or InfluxQL).\n",
    "`query_type` - Whether this is a SQL or InfluxQL based query."
   ]
  },
  {
   "attachments": {},
   "cell_type": "markdown",
   "metadata": {},
   "source": [
    "Return all columns from the table flight for the past 3 days."
   ]
  },
  {
   "cell_type": "code",
   "execution_count": 9,
   "metadata": {},
   "outputs": [
    {
     "data": {
      "text/html": [
       "<div>\n",
       "<style scoped>\n",
       "    .dataframe tbody tr th:only-of-type {\n",
       "        vertical-align: middle;\n",
       "    }\n",
       "\n",
       "    .dataframe tbody tr th {\n",
       "        vertical-align: top;\n",
       "    }\n",
       "\n",
       "    .dataframe thead th {\n",
       "        text-align: right;\n",
       "    }\n",
       "</style>\n",
       "<table border=\"1\" class=\"dataframe\">\n",
       "  <thead>\n",
       "    <tr style=\"text-align: right;\">\n",
       "      <th></th>\n",
       "      <th>iox::measurement</th>\n",
       "      <th>time</th>\n",
       "      <th>vibration</th>\n",
       "    </tr>\n",
       "  </thead>\n",
       "  <tbody>\n",
       "    <tr>\n",
       "      <th>0</th>\n",
       "      <td>machine_data</td>\n",
       "      <td>2023-06-28 09:54:35.296288245</td>\n",
       "      <td>89.0</td>\n",
       "    </tr>\n",
       "    <tr>\n",
       "      <th>1</th>\n",
       "      <td>machine_data</td>\n",
       "      <td>2023-06-28 09:54:35.614346443</td>\n",
       "      <td>60.0</td>\n",
       "    </tr>\n",
       "    <tr>\n",
       "      <th>2</th>\n",
       "      <td>machine_data</td>\n",
       "      <td>2023-06-28 09:54:36.614285038</td>\n",
       "      <td>67.0</td>\n",
       "    </tr>\n",
       "    <tr>\n",
       "      <th>3</th>\n",
       "      <td>machine_data</td>\n",
       "      <td>2023-06-28 09:54:37.614883179</td>\n",
       "      <td>70.0</td>\n",
       "    </tr>\n",
       "    <tr>\n",
       "      <th>4</th>\n",
       "      <td>machine_data</td>\n",
       "      <td>2023-06-28 09:54:38.615056141</td>\n",
       "      <td>76.0</td>\n",
       "    </tr>\n",
       "    <tr>\n",
       "      <th>...</th>\n",
       "      <td>...</td>\n",
       "      <td>...</td>\n",
       "      <td>...</td>\n",
       "    </tr>\n",
       "    <tr>\n",
       "      <th>222</th>\n",
       "      <td>machine_data</td>\n",
       "      <td>2023-06-28 09:58:16.858854302</td>\n",
       "      <td>82.0</td>\n",
       "    </tr>\n",
       "    <tr>\n",
       "      <th>223</th>\n",
       "      <td>machine_data</td>\n",
       "      <td>2023-06-28 09:58:17.859096470</td>\n",
       "      <td>86.0</td>\n",
       "    </tr>\n",
       "    <tr>\n",
       "      <th>224</th>\n",
       "      <td>machine_data</td>\n",
       "      <td>2023-06-28 09:58:18.859357894</td>\n",
       "      <td>86.0</td>\n",
       "    </tr>\n",
       "    <tr>\n",
       "      <th>225</th>\n",
       "      <td>machine_data</td>\n",
       "      <td>2023-06-28 09:58:19.859761125</td>\n",
       "      <td>82.0</td>\n",
       "    </tr>\n",
       "    <tr>\n",
       "      <th>226</th>\n",
       "      <td>machine_data</td>\n",
       "      <td>2023-06-28 09:58:20.860034308</td>\n",
       "      <td>85.0</td>\n",
       "    </tr>\n",
       "  </tbody>\n",
       "</table>\n",
       "<p>227 rows × 3 columns</p>\n",
       "</div>"
      ],
      "text/plain": [
       "    iox::measurement                          time  vibration\n",
       "0       machine_data 2023-06-28 09:54:35.296288245       89.0\n",
       "1       machine_data 2023-06-28 09:54:35.614346443       60.0\n",
       "2       machine_data 2023-06-28 09:54:36.614285038       67.0\n",
       "3       machine_data 2023-06-28 09:54:37.614883179       70.0\n",
       "4       machine_data 2023-06-28 09:54:38.615056141       76.0\n",
       "..               ...                           ...        ...\n",
       "222     machine_data 2023-06-28 09:58:16.858854302       82.0\n",
       "223     machine_data 2023-06-28 09:58:17.859096470       86.0\n",
       "224     machine_data 2023-06-28 09:58:18.859357894       86.0\n",
       "225     machine_data 2023-06-28 09:58:19.859761125       82.0\n",
       "226     machine_data 2023-06-28 09:58:20.860034308       85.0\n",
       "\n",
       "[227 rows x 3 columns]"
      ]
     },
     "metadata": {},
     "output_type": "display_data"
    }
   ],
   "source": [
    "df = table.to_pandas()\n",
    "display(df)"
   ]
  },
  {
   "cell_type": "code",
   "execution_count": 10,
   "metadata": {},
   "outputs": [],
   "source": [
    "# Save the table to a Parquet file\n",
    "pq.write_table(table, 'out.parquet' , version='2.6')"
   ]
  },
  {
   "cell_type": "code",
   "execution_count": 11,
   "metadata": {},
   "outputs": [],
   "source": [
    "df.to_csv(index=False, \n",
    "path_or_buf='./out.csv')"
   ]
  },
  {
   "cell_type": "code",
   "execution_count": 12,
   "metadata": {},
   "outputs": [],
   "source": [
    "result = df.to_json(orient=\"records\", path_or_buf='./out.json', date_unit ='ns')\n"
   ]
  },
  {
   "cell_type": "code",
   "execution_count": 13,
   "metadata": {},
   "outputs": [],
   "source": [
    "from pyarrow import orc\n",
    "orc.write_table(table, 'out.orc')"
   ]
  },
  {
   "cell_type": "code",
   "execution_count": 14,
   "metadata": {},
   "outputs": [],
   "source": [
    "from pyarrow import feather\n",
    "feather.write_feather(table, 'out.feather')"
   ]
  }
 ],
 "metadata": {
  "kernelspec": {
   "display_name": ".venv",
   "language": "python",
   "name": "python3"
  },
  "language_info": {
   "codemirror_mode": {
    "name": "ipython",
    "version": 3
   },
   "file_extension": ".py",
   "mimetype": "text/x-python",
   "name": "python",
   "nbconvert_exporter": "python",
   "pygments_lexer": "ipython3",
   "version": "3.11.4"
  },
  "orig_nbformat": 4
 },
 "nbformat": 4,
 "nbformat_minor": 2
}
