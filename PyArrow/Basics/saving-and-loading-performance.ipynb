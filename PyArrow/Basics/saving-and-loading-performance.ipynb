{
 "cells": [
  {
   "cell_type": "code",
   "execution_count": 7,
   "metadata": {},
   "outputs": [
    {
     "name": "stdout",
     "output_type": "stream",
     "text": [
      "pyarrow.Table\n",
      "host: string\n",
      "load: double\n",
      "machineID: string\n",
      "power: double\n",
      "provider: string\n",
      "temperature: double\n",
      "time: timestamp[ns] not null\n",
      "topic: string\n",
      "vibration: double\n",
      "----\n",
      "host: [[\"285b7993efcb\",\"285b7993efcb\",\"285b7993efcb\",\"285b7993efcb\",\"285b7993efcb\",...,\"285b7993efcb\",\"285b7993efcb\",\"285b7993efcb\",\"285b7993efcb\",\"285b7993efcb\"],[\"285b7993efcb\",\"285b7993efcb\",\"285b7993efcb\",\"285b7993efcb\",\"285b7993efcb\",...,\"285b7993efcb\",\"285b7993efcb\",\"285b7993efcb\",\"285b7993efcb\",\"285b7993efcb\"],...,[\"6e8a413a19a3\",\"6e8a413a19a3\",\"6e8a413a19a3\",\"6e8a413a19a3\",\"6e8a413a19a3\",...,\"6e8a413a19a3\",\"6e8a413a19a3\",\"6e8a413a19a3\",\"6e8a413a19a3\",\"6e8a413a19a3\"],[\"6e8a413a19a3\",\"6e8a413a19a3\",\"6e8a413a19a3\",\"6e8a413a19a3\",\"6e8a413a19a3\",...,\"6e8a413a19a3\",\"6e8a413a19a3\",\"6e8a413a19a3\",\"6e8a413a19a3\",\"6e8a413a19a3\"]]\n",
      "load: [[50,50,50,50,50,...,55,55,55,55,55],[55,55,5,5,5,...,37,37,37,37,37],...,[120,120,120,120,120,...,1,1,1,1,1],[42,42,42,42,42,...,58,58,58,58,58]]\n",
      "machineID: [[\"machine1\",\"machine1\",\"machine1\",\"machine1\",\"machine1\",...,\"machine2\",\"machine2\",\"machine2\",\"machine2\",\"machine2\"],[\"machine2\",\"machine2\",\"machine2\",\"machine2\",\"machine2\",...,\"machine3\",\"machine3\",\"machine3\",\"machine3\",\"machine3\"],...,[\"machine3\",\"machine3\",\"machine3\",\"machine3\",\"machine3\",...,\"machine3\",\"machine3\",\"machine3\",\"machine3\",\"machine3\"],[\"machine1\",\"machine1\",\"machine1\",\"machine1\",\"machine1\",...,\"machine3\",\"machine3\",\"machine3\",\"machine3\",\"machine3\"]]\n",
      "power: [[220,205,213,213,211,...,220,218,206,202,202],[204,212,188,181,182,...,199,181,196,189,198],...,[313,300,310,301,302,...,195,183,180,191,192],[200,200,204,217,220,...,209,214,207,208,209]]\n",
      "provider: [[\"Arroyo, Collier and Hall\",\"Arroyo, Collier and Hall\",\"Arroyo, Collier and Hall\",\"Arroyo, Collier and Hall\",\"Arroyo, Collier and Hall\",...,\"Bell PLC\",\"Bell PLC\",\"Bell PLC\",\"Bell PLC\",\"Bell PLC\"],[\"Bell PLC\",\"Bell PLC\",\"Bell PLC\",\"Bell PLC\",\"Bell PLC\",...,\"Thompson PLC\",\"Thompson PLC\",\"Thompson PLC\",\"Thompson PLC\",\"Thompson PLC\"],...,[\"Wells-Sanchez\",\"Wells-Sanchez\",\"Wells-Sanchez\",\"Wells-Sanchez\",\"Wells-Sanchez\",...,\"Wells-Sanchez\",\"Wells-Sanchez\",\"Wells-Sanchez\",\"Wells-Sanchez\",\"Wells-Sanchez\"],[\"Lowe-Thompson\",\"Lowe-Thompson\",\"Lowe-Thompson\",\"Lowe-Thompson\",\"Lowe-Thompson\",...,\"Wells-Sanchez\",\"Wells-Sanchez\",\"Wells-Sanchez\",\"Wells-Sanchez\",\"Wells-Sanchez\"]]\n",
      "temperature: [[39,38,35,38,40,...,40,38,37,37,37],[40,36,34,33,30,...,33,30,32,29,33],...,[89,85,90,84,81,...,30,29,32,30,30],[39,40,37,35,37,...,37,37,39,40,36]]\n",
      "time: [[2023-03-22 11:19:28.029203039,2023-03-22 11:19:29.029597237,2023-03-22 11:19:30.030658791,2023-03-22 11:19:31.031449674,2023-03-22 11:19:32.039883155,...,2023-03-22 12:13:22.913060916,2023-03-22 12:13:23.915097552,2023-03-22 12:13:24.916095080,2023-03-22 12:13:25.918623934,2023-03-22 12:13:26.920331322],[2023-03-22 12:13:27.921629209,2023-03-22 12:13:28.923176799,2023-03-22 12:13:29.925154568,2023-03-22 12:13:30.926658414,2023-03-22 12:13:31.927698508,...,2023-03-22 12:42:05.617189748,2023-03-22 12:42:06.618635191,2023-03-22 12:42:07.621008777,2023-03-22 12:42:08.621987333,2023-03-22 12:42:09.623617379],...,[2023-03-17 21:21:25.174602861,2023-03-17 21:21:26.175604259,2023-03-17 21:21:27.176647153,2023-03-17 21:21:28.178247049,2023-03-17 21:21:29.180405225,...,2023-03-17 23:13:05.076762638,2023-03-17 23:13:06.078954515,2023-03-17 23:13:07.080216407,2023-03-17 23:13:08.081644362,2023-03-17 23:13:09.082777021],[2023-03-19 11:09:44.443415268,2023-03-19 11:09:45.444565831,2023-03-19 11:09:46.446282584,2023-03-19 11:09:47.448125141,2023-03-19 11:09:48.449407248,...,2023-03-19 11:46:43.810409527,2023-03-19 11:46:44.812526052,2023-03-19 11:46:45.814115392,2023-03-19 11:46:46.815366435,2023-03-19 11:46:47.817490021]]\n",
      "topic: [[\"machine/machine1\",\"machine/machine1\",\"machine/machine1\",\"machine/machine1\",\"machine/machine1\",...,\"machine/machine2\",\"machine/machine2\",\"machine/machine2\",\"machine/machine2\",\"machine/machine2\"],[\"machine/machine2\",\"machine/machine2\",\"machine/machine2\",\"machine/machine2\",\"machine/machine2\",...,\"machine/machine3\",\"machine/machine3\",\"machine/machine3\",\"machine/machine3\",\"machine/machine3\"],...,[\"machine/machine3\",\"machine/machine3\",\"machine/machine3\",\"machine/machine3\",\"machine/machine3\",...,\"machine/machine3\",\"machine/machine3\",\"machine/machine3\",\"machine/machine3\",\"machine/machine3\"],[\"machine/machine1\",\"machine/machine1\",\"machine/machine1\",\"machine/machine1\",\"machine/machine1\",...,\"machine/machine3\",\"machine/machine3\",\"machine/machine3\",\"machine/machine3\",\"machine/machine3\"]]\n",
      "vibration: [[88,80,80,80,89,...,89,88,89,86,87],[89,90,59,79,68,...,75,67,53,50,56],...,[474,344,493,352,328,...,60,59,59,56,75],[85,87,88,89,88,...,80,80,90,83,84]]\n"
     ]
    }
   ],
   "source": [
    "import pyarrow as pa\n",
    "import pyarrow.parquet as pq\n",
    "import pandas as pd\n",
    "from flightsql import FlightSQLClient\n",
    "\n",
    "# Read only token for demo purposes\n",
    "token = \"6mFPNdcEwrjQD9utxkkMS6BfmhJoMIYsHkI317EcGSCMZaTalYADf0zm6u4VqrBv5YiGvvOf5Qa8sYTVrDigeA==\"\n",
    " \n",
    "client = FlightSQLClient(host='eu-central-1-1.aws.cloud2.influxdata.com',\n",
    "                        token=token,\n",
    "                        metadata={'bucket-name': 'factory'},\n",
    "                        features={'metadata-reflection': 'true'})\n",
    "\n",
    "# Execute a query against InfluxDB's Flight SQL endpoint                         \n",
    "#query = client.execute(\"SELECT * FROM iox.mqtt_consumer WHERE time > (NOW() - INTERVAL '1 DAY') \")\n",
    "\n",
    "query = client.execute(\"SELECT * FROM iox.machine_data\")\n",
    "\n",
    "# Create reader to consume result\n",
    "reader = client.do_get(query.endpoints[0].ticket)\n",
    "\n",
    "# Read all data into a pyarrow.Table\n",
    "table = reader.read_all()\n",
    "print(table)"
   ]
  },
  {
   "cell_type": "code",
   "execution_count": 12,
   "metadata": {},
   "outputs": [],
   "source": [
    "# Save the table to a Parquet file\n",
    "pq.write_table(table, 'large.parquet', version='2.6')"
   ]
  },
  {
   "cell_type": "code",
   "execution_count": 13,
   "metadata": {},
   "outputs": [
    {
     "name": "stdout",
     "output_type": "stream",
     "text": [
      "pyarrow.Table\n",
      "host: string\n",
      "load: double\n",
      "machineID: string\n",
      "power: double\n",
      "provider: string\n",
      "temperature: double\n",
      "time: timestamp[ns] not null\n",
      "topic: string\n",
      "vibration: double\n",
      "----\n",
      "host: [[\"285b7993efcb\",\"285b7993efcb\",\"285b7993efcb\",\"285b7993efcb\",\"285b7993efcb\",...,\"6e8a413a19a3\",\"6e8a413a19a3\",\"6e8a413a19a3\",\"6e8a413a19a3\",\"6e8a413a19a3\"],[\"6e8a413a19a3\",\"6e8a413a19a3\",\"6e8a413a19a3\",\"6e8a413a19a3\",\"6e8a413a19a3\",...,\"6e8a413a19a3\",\"6e8a413a19a3\",\"6e8a413a19a3\",\"6e8a413a19a3\",\"6e8a413a19a3\"],...,[\"6e8a413a19a3\",\"6e8a413a19a3\",\"6e8a413a19a3\",\"6e8a413a19a3\",\"6e8a413a19a3\",...,\"6e8a413a19a3\",\"6e8a413a19a3\",\"6e8a413a19a3\",\"6e8a413a19a3\",\"6e8a413a19a3\"],[\"6e8a413a19a3\",\"6e8a413a19a3\",\"6e8a413a19a3\",\"6e8a413a19a3\",\"6e8a413a19a3\",...,\"6e8a413a19a3\",\"6e8a413a19a3\",\"6e8a413a19a3\",\"6e8a413a19a3\",\"6e8a413a19a3\"]]\n",
      "load: [[50,50,50,50,50,...,20,20,20,20,59],[59,59,59,59,59,...,15,15,15,15,15],...,[20,20,20,20,20,...,6,6,6,6,6],[6,6,6,6,6,...,58,58,58,58,58]]\n",
      "machineID: [[\"machine1\",\"machine1\",\"machine1\",\"machine1\",\"machine1\",...,\"machine2\",\"machine2\",\"machine2\",\"machine2\",\"machine2\"],[\"machine2\",\"machine2\",\"machine2\",\"machine2\",\"machine2\",...,\"machine2\",\"machine2\",\"machine2\",\"machine2\",\"machine2\"],...,[\"machine2\",\"machine2\",\"machine2\",\"machine2\",\"machine2\",...,\"machine2\",\"machine2\",\"machine2\",\"machine2\",\"machine2\"],[\"machine2\",\"machine2\",\"machine2\",\"machine2\",\"machine2\",...,\"machine3\",\"machine3\",\"machine3\",\"machine3\",\"machine3\"]]\n",
      "power: [[220,205,213,213,211,...,193,197,192,182,200],[202,202,202,206,210,...,180,186,196,197,199],...,[194,181,188,193,199,...,197,196,193,196,192],[185,192,195,198,197,...,209,214,207,208,209]]\n",
      "provider: [[\"Arroyo, Collier and Hall\",\"Arroyo, Collier and Hall\",\"Arroyo, Collier and Hall\",\"Arroyo, Collier and Hall\",\"Arroyo, Collier and Hall\",...,\"Anthony-Jacobs\",\"Anthony-Jacobs\",\"Anthony-Jacobs\",\"Anthony-Jacobs\",\"Anthony-Jacobs\"],[\"Anthony-Jacobs\",\"Anthony-Jacobs\",\"Anthony-Jacobs\",\"Anthony-Jacobs\",\"Anthony-Jacobs\",...,\"Anthony-Jacobs\",\"Anthony-Jacobs\",\"Anthony-Jacobs\",\"Anthony-Jacobs\",\"Anthony-Jacobs\"],...,[\"Anthony-Jacobs\",\"Anthony-Jacobs\",\"Anthony-Jacobs\",\"Anthony-Jacobs\",\"Anthony-Jacobs\",...,\"Anthony-Jacobs\",\"Anthony-Jacobs\",\"Anthony-Jacobs\",\"Anthony-Jacobs\",\"Anthony-Jacobs\"],[\"Anthony-Jacobs\",\"Anthony-Jacobs\",\"Anthony-Jacobs\",\"Anthony-Jacobs\",\"Anthony-Jacobs\",...,\"Wells-Sanchez\",\"Wells-Sanchez\",\"Wells-Sanchez\",\"Wells-Sanchez\",\"Wells-Sanchez\"]]\n",
      "temperature: [[39,38,35,38,40,...,33,31,32,31,39],[35,37,38,37,39,...,29,32,33,33,33],...,[34,31,32,33,33,...,30,29,33,31,31],[32,31,29,33,33,...,37,37,39,40,36]]\n",
      "time: [[2023-03-22 11:19:28.029203039,2023-03-22 11:19:29.029597237,2023-03-22 11:19:30.030658791,2023-03-22 11:19:31.031449674,2023-03-22 11:19:32.039883155,...,2023-03-18 07:26:32.716414033,2023-03-18 07:26:33.718501160,2023-03-18 07:26:34.719251812,2023-03-18 07:26:35.720643237,2023-03-18 07:26:36.722821780],[2023-03-18 07:26:37.724096283,2023-03-18 07:26:38.725668028,2023-03-18 07:26:39.727247400,2023-03-18 07:26:40.728768514,2023-03-18 07:26:41.730517937,...,2023-03-19 11:03:37.141473353,2023-03-19 11:03:38.142825473,2023-03-19 11:03:39.143904714,2023-03-19 11:03:40.144479725,2023-03-19 11:03:41.145659155],...,[2023-03-18 12:50:39.315327251,2023-03-18 12:50:40.317618287,2023-03-18 12:50:41.318172276,2023-03-18 12:50:42.320394543,2023-03-18 12:50:43.321823660,...,2023-03-17 21:56:36.370806340,2023-03-17 21:56:37.372457507,2023-03-17 21:56:38.373633554,2023-03-17 21:56:39.375064717,2023-03-17 21:56:40.376453270],[2023-03-17 21:56:41.379466337,2023-03-17 21:56:42.381444382,2023-03-17 21:56:43.383560162,2023-03-17 21:56:44.385026579,2023-03-17 21:56:45.385467123,...,2023-03-19 11:46:43.810409527,2023-03-19 11:46:44.812526052,2023-03-19 11:46:45.814115392,2023-03-19 11:46:46.815366435,2023-03-19 11:46:47.817490021]]\n",
      "topic: [[\"machine/machine1\",\"machine/machine1\",\"machine/machine1\",\"machine/machine1\",\"machine/machine1\",...,\"machine/machine2\",\"machine/machine2\",\"machine/machine2\",\"machine/machine2\",\"machine/machine2\"],[\"machine/machine2\",\"machine/machine2\",\"machine/machine2\",\"machine/machine2\",\"machine/machine2\",...,\"machine/machine2\",\"machine/machine2\",\"machine/machine2\",\"machine/machine2\",\"machine/machine2\"],...,[\"machine/machine2\",\"machine/machine2\",\"machine/machine2\",\"machine/machine2\",\"machine/machine2\",...,\"machine/machine2\",\"machine/machine2\",\"machine/machine2\",\"machine/machine2\",\"machine/machine2\"],[\"machine/machine2\",\"machine/machine2\",\"machine/machine2\",\"machine/machine2\",\"machine/machine2\",...,\"machine/machine3\",\"machine/machine3\",\"machine/machine3\",\"machine/machine3\",\"machine/machine3\"]]\n",
      "vibration: [[88,80,80,80,89,...,54,55,76,51,82],[81,85,86,81,89,...,54,60,66,59,58],...,[63,57,69,71,74,...,53,60,57,73,60],[75,77,74,51,63,...,80,80,90,83,84]]\n"
     ]
    }
   ],
   "source": [
    "# Load the table from the Parquet file\n",
    "table2 = pq.read_table('large.parquet')\n",
    "# table2 = table2.to_pandas()\n",
    "print(table2)"
   ]
  },
  {
   "cell_type": "code",
   "execution_count": 10,
   "metadata": {},
   "outputs": [
    {
     "name": "stdout",
     "output_type": "stream",
     "text": [
      "                host  load machineID  power                  provider  \\\n",
      "0       285b7993efcb  50.0  machine1  220.0  Arroyo, Collier and Hall   \n",
      "1       285b7993efcb  50.0  machine1  205.0  Arroyo, Collier and Hall   \n",
      "2       285b7993efcb  50.0  machine1  213.0  Arroyo, Collier and Hall   \n",
      "3       285b7993efcb  50.0  machine1  213.0  Arroyo, Collier and Hall   \n",
      "4       285b7993efcb  50.0  machine1  211.0  Arroyo, Collier and Hall   \n",
      "...              ...   ...       ...    ...                       ...   \n",
      "565066  6e8a413a19a3  58.0  machine3  209.0             Wells-Sanchez   \n",
      "565067  6e8a413a19a3  58.0  machine3  214.0             Wells-Sanchez   \n",
      "565068  6e8a413a19a3  58.0  machine3  207.0             Wells-Sanchez   \n",
      "565069  6e8a413a19a3  58.0  machine3  208.0             Wells-Sanchez   \n",
      "565070  6e8a413a19a3  58.0  machine3  209.0             Wells-Sanchez   \n",
      "\n",
      "        temperature                          time             topic  vibration  \n",
      "0              39.0 2023-03-22 11:19:28.029203039  machine/machine1       88.0  \n",
      "1              38.0 2023-03-22 11:19:29.029597237  machine/machine1       80.0  \n",
      "2              35.0 2023-03-22 11:19:30.030658791  machine/machine1       80.0  \n",
      "3              38.0 2023-03-22 11:19:31.031449674  machine/machine1       80.0  \n",
      "4              40.0 2023-03-22 11:19:32.039883155  machine/machine1       89.0  \n",
      "...             ...                           ...               ...        ...  \n",
      "565066         37.0 2023-03-19 11:46:43.810409527  machine/machine3       80.0  \n",
      "565067         37.0 2023-03-19 11:46:44.812526052  machine/machine3       80.0  \n",
      "565068         39.0 2023-03-19 11:46:45.814115392  machine/machine3       90.0  \n",
      "565069         40.0 2023-03-19 11:46:46.815366435  machine/machine3       83.0  \n",
      "565070         36.0 2023-03-19 11:46:47.817490021  machine/machine3       84.0  \n",
      "\n",
      "[565071 rows x 9 columns]\n"
     ]
    }
   ],
   "source": [
    "dataframe = pd.read_parquet('large.parquet')\n",
    "print(dataframe)"
   ]
  }
 ],
 "metadata": {
  "kernelspec": {
   "display_name": ".venv",
   "language": "python",
   "name": "python3"
  },
  "language_info": {
   "codemirror_mode": {
    "name": "ipython",
    "version": 3
   },
   "file_extension": ".py",
   "mimetype": "text/x-python",
   "name": "python",
   "nbconvert_exporter": "python",
   "pygments_lexer": "ipython3",
   "version": "3.10.10"
  },
  "orig_nbformat": 4,
  "vscode": {
   "interpreter": {
    "hash": "65b00992f56ac2558ff834676b4d22d2fe0365bdc5b4fa36d6cd9a9b2b9e3d6a"
   }
  }
 },
 "nbformat": 4,
 "nbformat_minor": 2
}
