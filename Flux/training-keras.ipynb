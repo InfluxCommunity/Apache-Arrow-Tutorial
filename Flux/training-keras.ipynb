{
 "cells": [
  {
   "attachments": {},
   "cell_type": "markdown",
   "metadata": {},
   "source": [
    "# ML Model Example\n",
    "\n",
    "This example provides a simply query tutorial for InfluxDB Cloud Dedicated. "
   ]
  },
  {
   "cell_type": "code",
   "execution_count": 24,
   "metadata": {},
   "outputs": [],
   "source": [
    "import influxdb_client\n",
    "from IPython.display import display, HTML\n",
    "import warnings\n",
    "from influxdb_client.client.warnings import MissingPivotFunction\n",
    "\n",
    "warnings.simplefilter(\"ignore\", MissingPivotFunction)"
   ]
  },
  {
   "cell_type": "code",
   "execution_count": 25,
   "metadata": {},
   "outputs": [],
   "source": [
    "token = ''\n",
    "host = 'https://eu-central-1-1.aws.cloud2.influxdata.com'    \n",
    "org = 'Jay-IOx'\n",
    "db = 'factory'\n",
    "\n",
    "client = influxdb_client.InfluxDBClient(token=token,\n",
    "                         url=host,\n",
    "                         org=org,\n",
    "                         bucket=db) \n",
    "    \n",
    "    \n"
   ]
  },
  {
   "cell_type": "code",
   "execution_count": 27,
   "metadata": {},
   "outputs": [
    {
     "data": {
      "text/html": [
       "<div>\n",
       "<style scoped>\n",
       "    .dataframe tbody tr th:only-of-type {\n",
       "        vertical-align: middle;\n",
       "    }\n",
       "\n",
       "    .dataframe tbody tr th {\n",
       "        vertical-align: top;\n",
       "    }\n",
       "\n",
       "    .dataframe thead th {\n",
       "        text-align: right;\n",
       "    }\n",
       "</style>\n",
       "<table border=\"1\" class=\"dataframe\">\n",
       "  <thead>\n",
       "    <tr style=\"text-align: right;\">\n",
       "      <th></th>\n",
       "    </tr>\n",
       "  </thead>\n",
       "  <tbody>\n",
       "  </tbody>\n",
       "</table>\n",
       "</div>"
      ],
      "text/plain": [
       "Empty DataFrame\n",
       "Columns: []\n",
       "Index: []"
      ]
     },
     "metadata": {},
     "output_type": "display_data"
    }
   ],
   "source": [
    "query_api = client.query_api()\n",
    "query = 'import \"types\"\\\n",
    "from(bucket:\"factory\")\\\n",
    "|> range(start: -30d)\\\n",
    "|> filter(fn:(r) => r._measurement == \"mlresult\") |> filter(fn: (r) => types.isType(v: r._value, type: \"boolean\"))'\n",
    "\n",
    "result = query_api.query_data_frame(org=org, query=query)\n",
    "print(result)"
   ]
  }
 ],
 "metadata": {
  "kernelspec": {
   "display_name": ".venv",
   "language": "python",
   "name": "python3"
  },
  "language_info": {
   "codemirror_mode": {
    "name": "ipython",
    "version": 3
   },
   "file_extension": ".py",
   "mimetype": "text/x-python",
   "name": "python",
   "nbconvert_exporter": "python",
   "pygments_lexer": "ipython3",
   "version": "3.11.4"
  },
  "orig_nbformat": 4
 },
 "nbformat": 4,
 "nbformat_minor": 2
}
