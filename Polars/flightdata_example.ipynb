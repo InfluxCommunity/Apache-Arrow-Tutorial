{
 "cells": [
  {
   "attachments": {},
   "cell_type": "markdown",
   "metadata": {},
   "source": [
    "# Flight Data Example\n",
    "\n",
    "This example provides a simply query tutorial for InfluxDB Cloud Dedicated. "
   ]
  },
  {
   "cell_type": "code",
   "execution_count": 56,
   "metadata": {},
   "outputs": [],
   "source": [
    "import influxdb_client_3 as InfluxDBClient3\n",
    "import json\n",
    "import time\n",
    "from IPython.display import display, HTML\n",
    "import polars as pl\n",
    "from dash import Dash, html, dcc\n",
    "import plotly.express as px"
   ]
  },
  {
   "attachments": {},
   "cell_type": "markdown",
   "metadata": {},
   "source": [
    "The class `query_timer` provides a simple stop watch function for query performance testing. This will be utilised later within the notebook."
   ]
  },
  {
   "cell_type": "code",
   "execution_count": 53,
   "metadata": {},
   "outputs": [],
   "source": [
    "class query_timer:\n",
    "    def __init__(self):\n",
    "        self.start_time = time.time()\n",
    "        self.end_time = None\n",
    "        self.elapsed_time = None\n",
    "\n",
    "    def __enter__(self):\n",
    "        return self\n",
    "\n",
    "    def __exit__(self, exc_type, exc_val, exc_tb):\n",
    "        self.end_time = time.time()\n",
    "        self.elapsed_time = self.end_time - self.start_time\n",
    "        print('Execution time:', self.elapsed_time, 'seconds')\n",
    "        return self.elapsed_time\n"
   ]
  },
  {
   "attachments": {},
   "cell_type": "markdown",
   "metadata": {},
   "source": [
    "Next we provide our connection credentials to the InfluxDB 3.0 instance. \n",
    "`token` - scoped to the bucket you wish to query from.\n",
    "`host` - the host of your cloud dedicated instance.\n",
    "`client` - host wrapped in the flightclient class. "
   ]
  },
  {
   "cell_type": "code",
   "execution_count": 54,
   "metadata": {},
   "outputs": [],
   "source": [
    "token = ''\n",
    "host = ''    \n",
    "org = 'Jay-IOx'\n",
    "db = 'flightdemo'\n",
    "\n",
    "client = InfluxDBClient3.InfluxDBClient3(token=token,\n",
    "                         host=host,\n",
    "                         org=org,\n",
    "                         database=db) \n",
    "    \n"
   ]
  },
  {
   "cell_type": "code",
   "execution_count": 55,
   "metadata": {},
   "outputs": [
    {
     "name": "stdout",
     "output_type": "stream",
     "text": [
      "pyarrow.Table\n",
      "baro_altitude: double\n",
      "callsign: string\n",
      "category: int64\n",
      "geo_altitude: double\n",
      "icao24: string\n",
      "last_contact: int64\n",
      "latitude: double\n",
      "longitude: double\n",
      "on_ground: bool\n",
      "origin_country: string\n",
      "position_source: int64\n",
      "sensors: string\n",
      "spi: bool\n",
      "squawk: string\n",
      "time: timestamp[ns] not null\n",
      "time_position: int64\n",
      "true_track: double\n",
      "velocity: double\n",
      "vertical_rate: double\n",
      "----\n",
      "baro_altitude: [[4305.3,4305.3,4305.3,4305.3,4305.3,...,10972.8,10972.8,10972.8,11887.2,11887.2],[6606.54,6606.54,6606.54,6606.54,6606.54,...,4671.06,10972.8,10972.8,10972.8,10972.8]]\n",
      "callsign: [[\"\",\"\",\"\",\"\",\"\",...,\"SWG686  \",\"SWG686  \",\"SWG686  \",\"WJA140  \",\"WJA140  \"],[\"\",\"\",\"\",\"\",\"\",...,\"AZU4719 \",\"AZU4508 \",\"AZU4508 \",\"AZU4508 \",\"AZU4508 \"]]\n",
      "category: [[0,0,0,0,0,...,1,1,1,1,1],[0,0,0,0,0,...,3,4,4,4,4]]\n",
      "geo_altitude: [[233,233,233,233,233,...,11109.96,11109.96,11109.96,12108.18,12108.18],[3255,3255,3255,3255,3255,...,4922.52,11574.78,11574.78,11574.78,11574.78]]\n",
      "icao24: [[\"d01073\",\"d01073\",\"d01073\",\"d01073\",\"d01073\",...,\"c06147\",\"c06147\",\"c06147\",\"c0614d\",\"c0614d\"],[\"d00931\",\"d00931\",\"d00931\",\"d00931\",\"d00931\",...,\"e49284\",\"e492aa\",\"e492aa\",\"e492aa\",\"e492aa\"]]\n",
      "last_contact: [[1684762955,1684762955,1684762955,1684762955,1684762955,...,1684762955,1684762955,1684762955,1684762955,1684762955],[1684764292,1684764292,1684764292,1684764292,1684764292,...,1684764151,1684764369,1684764369,1684764369,1684764369]]\n",
      "latitude: [[51.4734,51.4734,51.4734,51.4734,51.4734,...,42.8123,42.8123,42.8123,50.0581,50.0581],[47.505,47.505,47.505,47.505,47.505,...,-7.4514,-21.7408,-21.7408,-21.7408,-21.7408]]\n",
      "longitude: [[6.4363,6.4363,6.4363,6.4363,6.4363,...,-73.8239,-73.8239,-73.8239,-100.8047,-100.8047],[11.9355,11.9355,11.9355,11.9355,11.9355,...,-34.6379,-46.125,-46.125,-46.125,-46.125]]\n",
      "on_ground: [[false,false,false,false,false,...,false,false,false,false,false],[false,false,false,false,false,...,false,false,false,false,false]]\n",
      "origin_country: [[\"<NA>\",\"<NA>\",\"<NA>\",\"<NA>\",\"<NA>\",...,\"Canada\",\"Canada\",\"Canada\",\"Canada\",\"Canada\"],[\"<NA>\",\"<NA>\",\"<NA>\",\"<NA>\",\"<NA>\",...,\"Brazil\",\"Brazil\",\"Brazil\",\"Brazil\",\"Brazil\"]]\n",
      "...\n"
     ]
    }
   ],
   "source": [
    "query = \"SELECT * FROM \\\"flight\\\" WHERE time >= now() -  interval '8 days' limit 10000\" \n",
    "table = client.query(query=query, language=\"sql\")\n",
    "print(table)"
   ]
  },
  {
   "attachments": {},
   "cell_type": "markdown",
   "metadata": {},
   "source": [
    "The `query_tools` function provides a wrapper to execution of a query agaisnt InfluxDB usinf flight. This function requires 3 paramters.\n",
    "`database`- this specifies the database you wish to direct your query at.\n",
    "`query` - This accepts a string literal of the query you wish to perform (SQL or InfluxQL).\n",
    "`query_type` - Whether this is a SQL or InfluxQL based query."
   ]
  },
  {
   "attachments": {},
   "cell_type": "markdown",
   "metadata": {},
   "source": [
    "Return all columns from the table flight for the past 3 days."
   ]
  },
  {
   "cell_type": "code",
   "execution_count": 57,
   "metadata": {},
   "outputs": [
    {
     "data": {
      "text/html": [
       "<div><style>\n",
       ".dataframe > thead > tr > th,\n",
       ".dataframe > tbody > tr > td {\n",
       "  text-align: right;\n",
       "}\n",
       "</style>\n",
       "<small>shape: (10_000, 19)</small><table border=\"1\" class=\"dataframe\"><thead><tr><th>baro_altitude</th><th>callsign</th><th>category</th><th>geo_altitude</th><th>icao24</th><th>last_contact</th><th>latitude</th><th>longitude</th><th>on_ground</th><th>origin_country</th><th>position_source</th><th>sensors</th><th>spi</th><th>squawk</th><th>time</th><th>time_position</th><th>true_track</th><th>velocity</th><th>vertical_rate</th></tr><tr><td>f64</td><td>str</td><td>i64</td><td>f64</td><td>str</td><td>i64</td><td>f64</td><td>f64</td><td>bool</td><td>str</td><td>i64</td><td>str</td><td>bool</td><td>str</td><td>datetime[ns]</td><td>i64</td><td>f64</td><td>f64</td><td>f64</td></tr></thead><tbody><tr><td>4305.3</td><td>&quot;&quot;</td><td>0</td><td>233.0</td><td>&quot;d01073&quot;</td><td>1684762955</td><td>51.4734</td><td>6.4363</td><td>false</td><td>&quot;&lt;NA&gt;&quot;</td><td>3</td><td>&quot;None&quot;</td><td>false</td><td>&quot;0142&quot;</td><td>2023-05-22 14:42:43.528557</td><td>1684762955</td><td>0.0</td><td>0.0</td><td>0.0</td></tr><tr><td>4305.3</td><td>&quot;&quot;</td><td>0</td><td>233.0</td><td>&quot;d01073&quot;</td><td>1684762955</td><td>51.4734</td><td>6.4363</td><td>false</td><td>&quot;&lt;NA&gt;&quot;</td><td>3</td><td>&quot;None&quot;</td><td>false</td><td>&quot;0142&quot;</td><td>2023-05-22 14:43:09.460129</td><td>1684762955</td><td>0.0</td><td>0.0</td><td>0.0</td></tr><tr><td>4305.3</td><td>&quot;&quot;</td><td>0</td><td>233.0</td><td>&quot;d01073&quot;</td><td>1684762955</td><td>51.4734</td><td>6.4363</td><td>false</td><td>&quot;&lt;NA&gt;&quot;</td><td>3</td><td>&quot;None&quot;</td><td>false</td><td>&quot;0142&quot;</td><td>2023-05-22 14:43:35.215190</td><td>1684762955</td><td>0.0</td><td>0.0</td><td>0.0</td></tr><tr><td>4305.3</td><td>&quot;&quot;</td><td>0</td><td>233.0</td><td>&quot;d01073&quot;</td><td>1684762955</td><td>51.4734</td><td>6.4363</td><td>false</td><td>&quot;&lt;NA&gt;&quot;</td><td>3</td><td>&quot;None&quot;</td><td>false</td><td>&quot;0142&quot;</td><td>2023-05-22 14:44:00.959938</td><td>1684762955</td><td>0.0</td><td>0.0</td><td>0.0</td></tr><tr><td>4305.3</td><td>&quot;&quot;</td><td>0</td><td>233.0</td><td>&quot;d01073&quot;</td><td>1684762955</td><td>51.4734</td><td>6.4363</td><td>false</td><td>&quot;&lt;NA&gt;&quot;</td><td>3</td><td>&quot;None&quot;</td><td>false</td><td>&quot;0142&quot;</td><td>2023-05-22 14:44:26.678951</td><td>1684762955</td><td>0.0</td><td>0.0</td><td>0.0</td></tr><tr><td>4305.3</td><td>&quot;&quot;</td><td>0</td><td>233.0</td><td>&quot;d01073&quot;</td><td>1684762955</td><td>51.4734</td><td>6.4363</td><td>false</td><td>&quot;&lt;NA&gt;&quot;</td><td>3</td><td>&quot;None&quot;</td><td>false</td><td>&quot;0142&quot;</td><td>2023-05-22 14:44:52.456026</td><td>1684762955</td><td>0.0</td><td>0.0</td><td>0.0</td></tr><tr><td>4305.3</td><td>&quot;&quot;</td><td>0</td><td>233.0</td><td>&quot;d01073&quot;</td><td>1684762955</td><td>51.4734</td><td>6.4363</td><td>false</td><td>&quot;&lt;NA&gt;&quot;</td><td>3</td><td>&quot;None&quot;</td><td>false</td><td>&quot;0142&quot;</td><td>2023-05-22 14:45:21.733319</td><td>1684762955</td><td>0.0</td><td>0.0</td><td>0.0</td></tr><tr><td>4305.3</td><td>&quot;&quot;</td><td>0</td><td>233.0</td><td>&quot;d01073&quot;</td><td>1684762955</td><td>51.4734</td><td>6.4363</td><td>false</td><td>&quot;&lt;NA&gt;&quot;</td><td>3</td><td>&quot;None&quot;</td><td>false</td><td>&quot;0142&quot;</td><td>2023-05-22 14:45:49.460784</td><td>1684762955</td><td>0.0</td><td>0.0</td><td>0.0</td></tr><tr><td>4305.3</td><td>&quot;&quot;</td><td>0</td><td>233.0</td><td>&quot;d01073&quot;</td><td>1684762955</td><td>51.4734</td><td>6.4363</td><td>false</td><td>&quot;&lt;NA&gt;&quot;</td><td>3</td><td>&quot;None&quot;</td><td>false</td><td>&quot;0142&quot;</td><td>2023-05-22 14:46:16.234436</td><td>1684762955</td><td>0.0</td><td>0.0</td><td>0.0</td></tr><tr><td>4305.3</td><td>&quot;&quot;</td><td>0</td><td>233.0</td><td>&quot;d01073&quot;</td><td>1684762955</td><td>51.4734</td><td>6.4363</td><td>false</td><td>&quot;&lt;NA&gt;&quot;</td><td>3</td><td>&quot;None&quot;</td><td>false</td><td>&quot;0142&quot;</td><td>2023-05-22 14:46:43.567914</td><td>1684762955</td><td>0.0</td><td>0.0</td><td>0.0</td></tr><tr><td>4305.3</td><td>&quot;&quot;</td><td>0</td><td>233.0</td><td>&quot;d01073&quot;</td><td>1684762955</td><td>51.4734</td><td>6.4363</td><td>false</td><td>&quot;&lt;NA&gt;&quot;</td><td>3</td><td>&quot;None&quot;</td><td>false</td><td>&quot;0142&quot;</td><td>2023-05-22 14:47:09.770508</td><td>1684762955</td><td>0.0</td><td>0.0</td><td>0.0</td></tr><tr><td>4305.3</td><td>&quot;&quot;</td><td>0</td><td>233.0</td><td>&quot;d01073&quot;</td><td>1684762955</td><td>51.4734</td><td>6.4363</td><td>false</td><td>&quot;&lt;NA&gt;&quot;</td><td>3</td><td>&quot;None&quot;</td><td>false</td><td>&quot;0142&quot;</td><td>2023-05-22 14:47:36.825993</td><td>1684762955</td><td>0.0</td><td>0.0</td><td>0.0</td></tr><tr><td>&hellip;</td><td>&hellip;</td><td>&hellip;</td><td>&hellip;</td><td>&hellip;</td><td>&hellip;</td><td>&hellip;</td><td>&hellip;</td><td>&hellip;</td><td>&hellip;</td><td>&hellip;</td><td>&hellip;</td><td>&hellip;</td><td>&hellip;</td><td>&hellip;</td><td>&hellip;</td><td>&hellip;</td><td>&hellip;</td><td>&hellip;</td></tr><tr><td>3627.12</td><td>&quot;TAM3241 &quot;</td><td>1</td><td>3832.86</td><td>&quot;e49234&quot;</td><td>1684764370</td><td>-23.0473</td><td>-46.5422</td><td>false</td><td>&quot;Brazil&quot;</td><td>0</td><td>&quot;None&quot;</td><td>false</td><td>&quot;4512&quot;</td><td>2023-05-22 15:07:16.443266</td><td>1684764366</td><td>201.8</td><td>163.45</td><td>-6.18</td></tr><tr><td>3627.12</td><td>&quot;TAM3241 &quot;</td><td>1</td><td>3832.86</td><td>&quot;e49234&quot;</td><td>1684764370</td><td>-23.0473</td><td>-46.5422</td><td>false</td><td>&quot;Brazil&quot;</td><td>0</td><td>&quot;None&quot;</td><td>false</td><td>&quot;4512&quot;</td><td>2023-05-22 15:08:10.110189</td><td>1684764366</td><td>201.8</td><td>163.45</td><td>-6.18</td></tr><tr><td>3627.12</td><td>&quot;TAM3241 &quot;</td><td>1</td><td>3832.86</td><td>&quot;e49234&quot;</td><td>1684764370</td><td>-23.0473</td><td>-46.5422</td><td>false</td><td>&quot;Brazil&quot;</td><td>0</td><td>&quot;None&quot;</td><td>false</td><td>&quot;4512&quot;</td><td>2023-05-22 15:08:38.111606</td><td>1684764366</td><td>201.8</td><td>163.45</td><td>-6.18</td></tr><tr><td>4671.06</td><td>&quot;AZU4719 &quot;</td><td>3</td><td>4922.52</td><td>&quot;e49284&quot;</td><td>1684764151</td><td>-7.4514</td><td>-34.6379</td><td>false</td><td>&quot;Brazil&quot;</td><td>0</td><td>&quot;None&quot;</td><td>false</td><td>&quot;1200&quot;</td><td>2023-05-22 15:06:22.930406</td><td>1684764112</td><td>213.91</td><td>145.68</td><td>-8.45</td></tr><tr><td>4671.06</td><td>&quot;AZU4719 &quot;</td><td>3</td><td>4922.52</td><td>&quot;e49284&quot;</td><td>1684764151</td><td>-7.4514</td><td>-34.6379</td><td>false</td><td>&quot;Brazil&quot;</td><td>0</td><td>&quot;None&quot;</td><td>false</td><td>&quot;1200&quot;</td><td>2023-05-22 15:06:49.513568</td><td>1684764112</td><td>213.91</td><td>145.68</td><td>-8.45</td></tr><tr><td>4671.06</td><td>&quot;AZU4719 &quot;</td><td>3</td><td>4922.52</td><td>&quot;e49284&quot;</td><td>1684764151</td><td>-7.4514</td><td>-34.6379</td><td>false</td><td>&quot;Brazil&quot;</td><td>0</td><td>&quot;None&quot;</td><td>false</td><td>&quot;1200&quot;</td><td>2023-05-22 15:07:16.443266</td><td>1684764112</td><td>213.91</td><td>145.68</td><td>-8.45</td></tr><tr><td>4671.06</td><td>&quot;AZU4719 &quot;</td><td>3</td><td>4922.52</td><td>&quot;e49284&quot;</td><td>1684764151</td><td>-7.4514</td><td>-34.6379</td><td>false</td><td>&quot;Brazil&quot;</td><td>0</td><td>&quot;None&quot;</td><td>false</td><td>&quot;1200&quot;</td><td>2023-05-22 15:08:10.110189</td><td>1684764112</td><td>213.91</td><td>145.68</td><td>-8.45</td></tr><tr><td>4671.06</td><td>&quot;AZU4719 &quot;</td><td>3</td><td>4922.52</td><td>&quot;e49284&quot;</td><td>1684764151</td><td>-7.4514</td><td>-34.6379</td><td>false</td><td>&quot;Brazil&quot;</td><td>0</td><td>&quot;None&quot;</td><td>false</td><td>&quot;1200&quot;</td><td>2023-05-22 15:08:38.111606</td><td>1684764112</td><td>213.91</td><td>145.68</td><td>-8.45</td></tr><tr><td>10972.8</td><td>&quot;AZU4508 &quot;</td><td>4</td><td>11574.78</td><td>&quot;e492aa&quot;</td><td>1684764369</td><td>-21.7408</td><td>-46.125</td><td>false</td><td>&quot;Brazil&quot;</td><td>0</td><td>&quot;None&quot;</td><td>false</td><td>&quot;5227&quot;</td><td>2023-05-22 15:06:22.930406</td><td>1684764369</td><td>216.24</td><td>224.52</td><td>0.0</td></tr><tr><td>10972.8</td><td>&quot;AZU4508 &quot;</td><td>4</td><td>11574.78</td><td>&quot;e492aa&quot;</td><td>1684764369</td><td>-21.7408</td><td>-46.125</td><td>false</td><td>&quot;Brazil&quot;</td><td>0</td><td>&quot;None&quot;</td><td>false</td><td>&quot;5227&quot;</td><td>2023-05-22 15:06:49.513568</td><td>1684764369</td><td>216.24</td><td>224.52</td><td>0.0</td></tr><tr><td>10972.8</td><td>&quot;AZU4508 &quot;</td><td>4</td><td>11574.78</td><td>&quot;e492aa&quot;</td><td>1684764369</td><td>-21.7408</td><td>-46.125</td><td>false</td><td>&quot;Brazil&quot;</td><td>0</td><td>&quot;None&quot;</td><td>false</td><td>&quot;5227&quot;</td><td>2023-05-22 15:07:16.443266</td><td>1684764369</td><td>216.24</td><td>224.52</td><td>0.0</td></tr><tr><td>10972.8</td><td>&quot;AZU4508 &quot;</td><td>4</td><td>11574.78</td><td>&quot;e492aa&quot;</td><td>1684764369</td><td>-21.7408</td><td>-46.125</td><td>false</td><td>&quot;Brazil&quot;</td><td>0</td><td>&quot;None&quot;</td><td>false</td><td>&quot;5227&quot;</td><td>2023-05-22 15:07:44.019667</td><td>1684764369</td><td>216.24</td><td>224.52</td><td>0.0</td></tr></tbody></table></div>"
      ],
      "text/plain": [
       "shape: (10_000, 19)\n",
       "┌────────────┬──────────┬──────────┬────────────┬───┬────────────┬──────────┬──────────┬────────────┐\n",
       "│ baro_altit ┆ callsign ┆ category ┆ geo_altitu ┆ … ┆ time_posit ┆ true_tra ┆ velocity ┆ vertical_r │\n",
       "│ ude        ┆ ---      ┆ ---      ┆ de         ┆   ┆ ion        ┆ ck       ┆ ---      ┆ ate        │\n",
       "│ ---        ┆ str      ┆ i64      ┆ ---        ┆   ┆ ---        ┆ ---      ┆ f64      ┆ ---        │\n",
       "│ f64        ┆          ┆          ┆ f64        ┆   ┆ i64        ┆ f64      ┆          ┆ f64        │\n",
       "╞════════════╪══════════╪══════════╪════════════╪═══╪════════════╪══════════╪══════════╪════════════╡\n",
       "│ 4305.3     ┆          ┆ 0        ┆ 233.0      ┆ … ┆ 1684762955 ┆ 0.0      ┆ 0.0      ┆ 0.0        │\n",
       "│ 4305.3     ┆          ┆ 0        ┆ 233.0      ┆ … ┆ 1684762955 ┆ 0.0      ┆ 0.0      ┆ 0.0        │\n",
       "│ 4305.3     ┆          ┆ 0        ┆ 233.0      ┆ … ┆ 1684762955 ┆ 0.0      ┆ 0.0      ┆ 0.0        │\n",
       "│ 4305.3     ┆          ┆ 0        ┆ 233.0      ┆ … ┆ 1684762955 ┆ 0.0      ┆ 0.0      ┆ 0.0        │\n",
       "│ …          ┆ …        ┆ …        ┆ …          ┆ … ┆ …          ┆ …        ┆ …        ┆ …          │\n",
       "│ 10972.8    ┆ AZU4508  ┆ 4        ┆ 11574.78   ┆ … ┆ 1684764369 ┆ 216.24   ┆ 224.52   ┆ 0.0        │\n",
       "│ 10972.8    ┆ AZU4508  ┆ 4        ┆ 11574.78   ┆ … ┆ 1684764369 ┆ 216.24   ┆ 224.52   ┆ 0.0        │\n",
       "│ 10972.8    ┆ AZU4508  ┆ 4        ┆ 11574.78   ┆ … ┆ 1684764369 ┆ 216.24   ┆ 224.52   ┆ 0.0        │\n",
       "│ 10972.8    ┆ AZU4508  ┆ 4        ┆ 11574.78   ┆ … ┆ 1684764369 ┆ 216.24   ┆ 224.52   ┆ 0.0        │\n",
       "└────────────┴──────────┴──────────┴────────────┴───┴────────────┴──────────┴──────────┴────────────┘"
      ]
     },
     "metadata": {},
     "output_type": "display_data"
    }
   ],
   "source": [
    "df = pl.from_arrow(table)\n",
    "display(df)"
   ]
  },
  {
   "cell_type": "code",
   "execution_count": 58,
   "metadata": {},
   "outputs": [
    {
     "data": {
      "text/html": [
       "<div><style>\n",
       ".dataframe > thead > tr > th,\n",
       ".dataframe > tbody > tr > td {\n",
       "  text-align: right;\n",
       "}\n",
       "</style>\n",
       "<small>shape: (19, 3)</small><table border=\"1\" class=\"dataframe\"><thead><tr><th>origin_country</th><th>icao24</th><th>velocity</th></tr><tr><td>str</td><td>u32</td><td>f64</td></tr></thead><tbody><tr><td>&quot;Belarus&quot;</td><td>34</td><td>223.53</td></tr><tr><td>&quot;Bangladesh&quot;</td><td>73</td><td>259.4</td></tr><tr><td>&quot;&lt;NA&gt;&quot;</td><td>204</td><td>146.24</td></tr><tr><td>&quot;Austria&quot;</td><td>2689</td><td>264.2</td></tr><tr><td>&quot;Bulgaria&quot;</td><td>186</td><td>233.57</td></tr><tr><td>&quot;Angola&quot;</td><td>12</td><td>239.17</td></tr><tr><td>&quot;Bahrain&quot;</td><td>122</td><td>250.5</td></tr><tr><td>&quot;Albania&quot;</td><td>18</td><td>229.17</td></tr><tr><td>&quot;Argentina&quot;</td><td>284</td><td>245.55</td></tr><tr><td>&quot;Brunei Darussa…</td><td>13</td><td>110.44</td></tr><tr><td>&quot;Cambodia&quot;</td><td>28</td><td>223.86</td></tr><tr><td>&quot;Bhutan&quot;</td><td>5</td><td>117.18</td></tr><tr><td>&quot;Brazil&quot;</td><td>1527</td><td>268.95</td></tr><tr><td>&quot;Algeria&quot;</td><td>300</td><td>246.52</td></tr><tr><td>&quot;Botswana&quot;</td><td>12</td><td>62.9</td></tr><tr><td>&quot;Belgium&quot;</td><td>626</td><td>251.82</td></tr><tr><td>&quot;Azerbaijan&quot;</td><td>72</td><td>238.99</td></tr><tr><td>&quot;Australia&quot;</td><td>816</td><td>268.12</td></tr><tr><td>&quot;Canada&quot;</td><td>2979</td><td>282.7</td></tr></tbody></table></div>"
      ],
      "text/plain": [
       "shape: (19, 3)\n",
       "┌────────────────┬────────┬──────────┐\n",
       "│ origin_country ┆ icao24 ┆ velocity │\n",
       "│ ---            ┆ ---    ┆ ---      │\n",
       "│ str            ┆ u32    ┆ f64      │\n",
       "╞════════════════╪════════╪══════════╡\n",
       "│ Belarus        ┆ 34     ┆ 223.53   │\n",
       "│ Bangladesh     ┆ 73     ┆ 259.4    │\n",
       "│ <NA>           ┆ 204    ┆ 146.24   │\n",
       "│ Austria        ┆ 2689   ┆ 264.2    │\n",
       "│ …              ┆ …      ┆ …        │\n",
       "│ Belgium        ┆ 626    ┆ 251.82   │\n",
       "│ Azerbaijan     ┆ 72     ┆ 238.99   │\n",
       "│ Australia      ┆ 816    ┆ 268.12   │\n",
       "│ Canada         ┆ 2979   ┆ 282.7    │\n",
       "└────────────────┴────────┴──────────┘"
      ]
     },
     "metadata": {},
     "output_type": "display_data"
    }
   ],
   "source": [
    "df = df.groupby(\"origin_country\").agg(\n",
    "        [\n",
    "            pl.count(\"icao24\"),\n",
    "            pl.max(\"velocity\")\n",
    "        ]\n",
    "    )\n",
    "display(df)"
   ]
  },
  {
   "cell_type": "code",
   "execution_count": 59,
   "metadata": {},
   "outputs": [
    {
     "data": {
      "text/html": [
       "<div><style>\n",
       ".dataframe > thead > tr > th,\n",
       ".dataframe > tbody > tr > td {\n",
       "  text-align: right;\n",
       "}\n",
       "</style>\n",
       "<small>shape: (5, 13)</small><table border=\"1\" class=\"dataframe\"><thead><tr><th>#</th><th>Name</th><th>Type 1</th><th>Type 2</th><th>Total</th><th>HP</th><th>Attack</th><th>Defense</th><th>Sp. Atk</th><th>Sp. Def</th><th>Speed</th><th>Generation</th><th>Legendary</th></tr><tr><td>i64</td><td>str</td><td>str</td><td>str</td><td>i64</td><td>i64</td><td>i64</td><td>i64</td><td>i64</td><td>i64</td><td>i64</td><td>i64</td><td>bool</td></tr></thead><tbody><tr><td>1</td><td>&quot;Bulbasaur&quot;</td><td>&quot;Grass&quot;</td><td>&quot;Poison&quot;</td><td>318</td><td>45</td><td>49</td><td>49</td><td>65</td><td>65</td><td>45</td><td>1</td><td>false</td></tr><tr><td>2</td><td>&quot;Ivysaur&quot;</td><td>&quot;Grass&quot;</td><td>&quot;Poison&quot;</td><td>405</td><td>60</td><td>62</td><td>63</td><td>80</td><td>80</td><td>60</td><td>1</td><td>false</td></tr><tr><td>3</td><td>&quot;Venusaur&quot;</td><td>&quot;Grass&quot;</td><td>&quot;Poison&quot;</td><td>525</td><td>80</td><td>82</td><td>83</td><td>100</td><td>100</td><td>80</td><td>1</td><td>false</td></tr><tr><td>3</td><td>&quot;VenusaurMega V…</td><td>&quot;Grass&quot;</td><td>&quot;Poison&quot;</td><td>625</td><td>80</td><td>100</td><td>123</td><td>122</td><td>120</td><td>80</td><td>1</td><td>false</td></tr><tr><td>4</td><td>&quot;Charmander&quot;</td><td>&quot;Fire&quot;</td><td>null</td><td>309</td><td>39</td><td>52</td><td>43</td><td>60</td><td>50</td><td>65</td><td>1</td><td>false</td></tr></tbody></table></div>"
      ],
      "text/plain": [
       "shape: (5, 13)\n",
       "┌─────┬───────────────────────┬────────┬────────┬───┬─────────┬───────┬────────────┬───────────┐\n",
       "│ #   ┆ Name                  ┆ Type 1 ┆ Type 2 ┆ … ┆ Sp. Def ┆ Speed ┆ Generation ┆ Legendary │\n",
       "│ --- ┆ ---                   ┆ ---    ┆ ---    ┆   ┆ ---     ┆ ---   ┆ ---        ┆ ---       │\n",
       "│ i64 ┆ str                   ┆ str    ┆ str    ┆   ┆ i64     ┆ i64   ┆ i64        ┆ bool      │\n",
       "╞═════╪═══════════════════════╪════════╪════════╪═══╪═════════╪═══════╪════════════╪═══════════╡\n",
       "│ 1   ┆ Bulbasaur             ┆ Grass  ┆ Poison ┆ … ┆ 65      ┆ 45    ┆ 1          ┆ false     │\n",
       "│ 2   ┆ Ivysaur               ┆ Grass  ┆ Poison ┆ … ┆ 80      ┆ 60    ┆ 1          ┆ false     │\n",
       "│ 3   ┆ Venusaur              ┆ Grass  ┆ Poison ┆ … ┆ 100     ┆ 80    ┆ 1          ┆ false     │\n",
       "│ 3   ┆ VenusaurMega Venusaur ┆ Grass  ┆ Poison ┆ … ┆ 120     ┆ 80    ┆ 1          ┆ false     │\n",
       "│ 4   ┆ Charmander            ┆ Fire   ┆ null   ┆ … ┆ 50      ┆ 65    ┆ 1          ┆ false     │\n",
       "└─────┴───────────────────────┴────────┴────────┴───┴─────────┴───────┴────────────┴───────────┘"
      ]
     },
     "metadata": {},
     "output_type": "display_data"
    }
   ],
   "source": [
    "# then let's load some csv data with information about pokemon\n",
    "df = pl.read_csv(\n",
    "    \"https://gist.githubusercontent.com/ritchie46/cac6b337ea52281aa23c049250a4ff03/raw/89a957ff3919d90e6ef2d34235e6bf22304f3366/pokemon.csv\"\n",
    ")\n",
    "display(df.head())"
   ]
  },
  {
   "cell_type": "code",
   "execution_count": 60,
   "metadata": {},
   "outputs": [
    {
     "data": {
      "text/html": [
       "<div><style>\n",
       ".dataframe > thead > tr > th,\n",
       ".dataframe > tbody > tr > td {\n",
       "  text-align: right;\n",
       "}\n",
       "</style>\n",
       "<small>shape: (163, 5)</small><table border=\"1\" class=\"dataframe\"><thead><tr><th>Type 1</th><th>Type 2</th><th>avg_attack_by_type</th><th>avg_defense_by_type_combination</th><th>avg_attack</th></tr><tr><td>str</td><td>str</td><td>f64</td><td>f64</td><td>f64</td></tr></thead><tbody><tr><td>&quot;Grass&quot;</td><td>&quot;Poison&quot;</td><td>72.923077</td><td>67.8</td><td>75.349693</td></tr><tr><td>&quot;Grass&quot;</td><td>&quot;Poison&quot;</td><td>72.923077</td><td>67.8</td><td>75.349693</td></tr><tr><td>&quot;Grass&quot;</td><td>&quot;Poison&quot;</td><td>72.923077</td><td>67.8</td><td>75.349693</td></tr><tr><td>&quot;Grass&quot;</td><td>&quot;Poison&quot;</td><td>72.923077</td><td>67.8</td><td>75.349693</td></tr><tr><td>&quot;Fire&quot;</td><td>null</td><td>88.642857</td><td>58.3</td><td>75.349693</td></tr><tr><td>&quot;Fire&quot;</td><td>null</td><td>88.642857</td><td>58.3</td><td>75.349693</td></tr><tr><td>&quot;Fire&quot;</td><td>&quot;Flying&quot;</td><td>88.642857</td><td>82.0</td><td>75.349693</td></tr><tr><td>&quot;Fire&quot;</td><td>&quot;Dragon&quot;</td><td>88.642857</td><td>111.0</td><td>75.349693</td></tr><tr><td>&quot;Fire&quot;</td><td>&quot;Flying&quot;</td><td>88.642857</td><td>82.0</td><td>75.349693</td></tr><tr><td>&quot;Water&quot;</td><td>null</td><td>74.193548</td><td>74.526316</td><td>75.349693</td></tr><tr><td>&quot;Water&quot;</td><td>null</td><td>74.193548</td><td>74.526316</td><td>75.349693</td></tr><tr><td>&quot;Water&quot;</td><td>null</td><td>74.193548</td><td>74.526316</td><td>75.349693</td></tr><tr><td>&hellip;</td><td>&hellip;</td><td>&hellip;</td><td>&hellip;</td><td>&hellip;</td></tr><tr><td>&quot;Rock&quot;</td><td>&quot;Water&quot;</td><td>87.5</td><td>105.0</td><td>75.349693</td></tr><tr><td>&quot;Rock&quot;</td><td>&quot;Water&quot;</td><td>87.5</td><td>105.0</td><td>75.349693</td></tr><tr><td>&quot;Rock&quot;</td><td>&quot;Flying&quot;</td><td>87.5</td><td>75.0</td><td>75.349693</td></tr><tr><td>&quot;Rock&quot;</td><td>&quot;Flying&quot;</td><td>87.5</td><td>75.0</td><td>75.349693</td></tr><tr><td>&quot;Normal&quot;</td><td>null</td><td>70.625</td><td>59.846154</td><td>75.349693</td></tr><tr><td>&quot;Ice&quot;</td><td>&quot;Flying&quot;</td><td>67.5</td><td>100.0</td><td>75.349693</td></tr><tr><td>&quot;Electric&quot;</td><td>&quot;Flying&quot;</td><td>62.0</td><td>85.0</td><td>75.349693</td></tr><tr><td>&quot;Fire&quot;</td><td>&quot;Flying&quot;</td><td>88.642857</td><td>82.0</td><td>75.349693</td></tr><tr><td>&quot;Dragon&quot;</td><td>null</td><td>94.0</td><td>55.0</td><td>75.349693</td></tr><tr><td>&quot;Dragon&quot;</td><td>null</td><td>94.0</td><td>55.0</td><td>75.349693</td></tr><tr><td>&quot;Dragon&quot;</td><td>&quot;Flying&quot;</td><td>94.0</td><td>95.0</td><td>75.349693</td></tr><tr><td>&quot;Psychic&quot;</td><td>null</td><td>53.875</td><td>51.428571</td><td>75.349693</td></tr></tbody></table></div>"
      ],
      "text/plain": [
       "shape: (163, 5)\n",
       "┌─────────┬────────┬────────────────────┬─────────────────────────────────┬────────────┐\n",
       "│ Type 1  ┆ Type 2 ┆ avg_attack_by_type ┆ avg_defense_by_type_combination ┆ avg_attack │\n",
       "│ ---     ┆ ---    ┆ ---                ┆ ---                             ┆ ---        │\n",
       "│ str     ┆ str    ┆ f64                ┆ f64                             ┆ f64        │\n",
       "╞═════════╪════════╪════════════════════╪═════════════════════════════════╪════════════╡\n",
       "│ Grass   ┆ Poison ┆ 72.923077          ┆ 67.8                            ┆ 75.349693  │\n",
       "│ Grass   ┆ Poison ┆ 72.923077          ┆ 67.8                            ┆ 75.349693  │\n",
       "│ Grass   ┆ Poison ┆ 72.923077          ┆ 67.8                            ┆ 75.349693  │\n",
       "│ Grass   ┆ Poison ┆ 72.923077          ┆ 67.8                            ┆ 75.349693  │\n",
       "│ …       ┆ …      ┆ …                  ┆ …                               ┆ …          │\n",
       "│ Dragon  ┆ null   ┆ 94.0               ┆ 55.0                            ┆ 75.349693  │\n",
       "│ Dragon  ┆ null   ┆ 94.0               ┆ 55.0                            ┆ 75.349693  │\n",
       "│ Dragon  ┆ Flying ┆ 94.0               ┆ 95.0                            ┆ 75.349693  │\n",
       "│ Psychic ┆ null   ┆ 53.875             ┆ 51.428571                       ┆ 75.349693  │\n",
       "└─────────┴────────┴────────────────────┴─────────────────────────────────┴────────────┘"
      ]
     },
     "metadata": {},
     "output_type": "display_data"
    }
   ],
   "source": [
    "out = df.select(\n",
    "    [\n",
    "        \"Type 1\",\n",
    "        \"Type 2\",\n",
    "        pl.col(\"Attack\").mean().over(\"Type 1\").alias(\"avg_attack_by_type\"),\n",
    "        pl.col(\"Defense\")\n",
    "        .mean()\n",
    "        .over([\"Type 1\", \"Type 2\"])\n",
    "        .alias(\"avg_defense_by_type_combination\"),\n",
    "        pl.col(\"Attack\").mean().alias(\"avg_attack\"),\n",
    "    ]\n",
    ")\n",
    "display(out)"
   ]
  },
  {
   "cell_type": "code",
   "execution_count": 61,
   "metadata": {},
   "outputs": [
    {
     "data": {
      "text/html": [
       "<div><style>\n",
       ".dataframe > thead > tr > th,\n",
       ".dataframe > tbody > tr > td {\n",
       "  text-align: right;\n",
       "}\n",
       "</style>\n",
       "<small>shape: (7, 3)</small><table border=\"1\" class=\"dataframe\"><thead><tr><th>Name</th><th>Type 1</th><th>Speed</th></tr><tr><td>str</td><td>str</td><td>i64</td></tr></thead><tbody><tr><td>&quot;Slowpoke&quot;</td><td>&quot;Water&quot;</td><td>15</td></tr><tr><td>&quot;Slowbro&quot;</td><td>&quot;Water&quot;</td><td>30</td></tr><tr><td>&quot;SlowbroMega Sl…</td><td>&quot;Water&quot;</td><td>30</td></tr><tr><td>&quot;Exeggcute&quot;</td><td>&quot;Grass&quot;</td><td>40</td></tr><tr><td>&quot;Exeggutor&quot;</td><td>&quot;Grass&quot;</td><td>55</td></tr><tr><td>&quot;Starmie&quot;</td><td>&quot;Water&quot;</td><td>115</td></tr><tr><td>&quot;Jynx&quot;</td><td>&quot;Ice&quot;</td><td>95</td></tr></tbody></table></div>"
      ],
      "text/plain": [
       "shape: (7, 3)\n",
       "┌─────────────────────┬────────┬───────┐\n",
       "│ Name                ┆ Type 1 ┆ Speed │\n",
       "│ ---                 ┆ ---    ┆ ---   │\n",
       "│ str                 ┆ str    ┆ i64   │\n",
       "╞═════════════════════╪════════╪═══════╡\n",
       "│ Slowpoke            ┆ Water  ┆ 15    │\n",
       "│ Slowbro             ┆ Water  ┆ 30    │\n",
       "│ SlowbroMega Slowbro ┆ Water  ┆ 30    │\n",
       "│ Exeggcute           ┆ Grass  ┆ 40    │\n",
       "│ Exeggutor           ┆ Grass  ┆ 55    │\n",
       "│ Starmie             ┆ Water  ┆ 115   │\n",
       "│ Jynx                ┆ Ice    ┆ 95    │\n",
       "└─────────────────────┴────────┴───────┘"
      ]
     },
     "metadata": {},
     "output_type": "display_data"
    }
   ],
   "source": [
    "filtered = df.filter(pl.col(\"Type 2\") == \"Psychic\").select(\n",
    "    [\n",
    "        \"Name\",\n",
    "        \"Type 1\",\n",
    "        \"Speed\",\n",
    "    ]\n",
    ")\n",
    "display(filtered)"
   ]
  },
  {
   "cell_type": "code",
   "execution_count": 62,
   "metadata": {},
   "outputs": [
    {
     "data": {
      "text/html": [
       "<div><style>\n",
       ".dataframe > thead > tr > th,\n",
       ".dataframe > tbody > tr > td {\n",
       "  text-align: right;\n",
       "}\n",
       "</style>\n",
       "<small>shape: (7, 3)</small><table border=\"1\" class=\"dataframe\"><thead><tr><th>Name</th><th>Type 1</th><th>Speed</th></tr><tr><td>str</td><td>str</td><td>i64</td></tr></thead><tbody><tr><td>&quot;Starmie&quot;</td><td>&quot;Water&quot;</td><td>115</td></tr><tr><td>&quot;Slowbro&quot;</td><td>&quot;Water&quot;</td><td>30</td></tr><tr><td>&quot;SlowbroMega Sl…</td><td>&quot;Water&quot;</td><td>30</td></tr><tr><td>&quot;Exeggutor&quot;</td><td>&quot;Grass&quot;</td><td>55</td></tr><tr><td>&quot;Exeggcute&quot;</td><td>&quot;Grass&quot;</td><td>40</td></tr><tr><td>&quot;Slowpoke&quot;</td><td>&quot;Water&quot;</td><td>15</td></tr><tr><td>&quot;Jynx&quot;</td><td>&quot;Ice&quot;</td><td>95</td></tr></tbody></table></div>"
      ],
      "text/plain": [
       "shape: (7, 3)\n",
       "┌─────────────────────┬────────┬───────┐\n",
       "│ Name                ┆ Type 1 ┆ Speed │\n",
       "│ ---                 ┆ ---    ┆ ---   │\n",
       "│ str                 ┆ str    ┆ i64   │\n",
       "╞═════════════════════╪════════╪═══════╡\n",
       "│ Starmie             ┆ Water  ┆ 115   │\n",
       "│ Slowbro             ┆ Water  ┆ 30    │\n",
       "│ SlowbroMega Slowbro ┆ Water  ┆ 30    │\n",
       "│ Exeggutor           ┆ Grass  ┆ 55    │\n",
       "│ Exeggcute           ┆ Grass  ┆ 40    │\n",
       "│ Slowpoke            ┆ Water  ┆ 15    │\n",
       "│ Jynx                ┆ Ice    ┆ 95    │\n",
       "└─────────────────────┴────────┴───────┘"
      ]
     },
     "metadata": {},
     "output_type": "display_data"
    }
   ],
   "source": [
    "out = filtered.with_columns(\n",
    "    [\n",
    "        pl.col([\"Name\", \"Speed\"]).sort_by(\"Speed\", descending=True).over(\"Type 1\"),\n",
    "    ]\n",
    ")\n",
    "display(out)"
   ]
  },
  {
   "cell_type": "code",
   "execution_count": 63,
   "metadata": {},
   "outputs": [
    {
     "ename": "ValueError",
     "evalue": "Mime type rendering requires nbformat>=4.2.0 but it is not installed",
     "output_type": "error",
     "traceback": [
      "\u001b[0;31m---------------------------------------------------------------------------\u001b[0m",
      "\u001b[0;31mValueError\u001b[0m                                Traceback (most recent call last)",
      "File \u001b[0;32m~/Documents/repos/Apache-Arrow-Tutorial/.venv/lib/python3.11/site-packages/IPython/core/formatters.py:922\u001b[0m, in \u001b[0;36mIPythonDisplayFormatter.__call__\u001b[0;34m(self, obj)\u001b[0m\n\u001b[1;32m    920\u001b[0m method \u001b[39m=\u001b[39m get_real_method(obj, \u001b[39mself\u001b[39m\u001b[39m.\u001b[39mprint_method)\n\u001b[1;32m    921\u001b[0m \u001b[39mif\u001b[39;00m method \u001b[39mis\u001b[39;00m \u001b[39mnot\u001b[39;00m \u001b[39mNone\u001b[39;00m:\n\u001b[0;32m--> 922\u001b[0m     method()\n\u001b[1;32m    923\u001b[0m     \u001b[39mreturn\u001b[39;00m \u001b[39mTrue\u001b[39;00m\n",
      "File \u001b[0;32m~/Documents/repos/Apache-Arrow-Tutorial/.venv/lib/python3.11/site-packages/plotly/basedatatypes.py:834\u001b[0m, in \u001b[0;36mBaseFigure._ipython_display_\u001b[0;34m(self)\u001b[0m\n\u001b[1;32m    831\u001b[0m \u001b[39mimport\u001b[39;00m \u001b[39mplotly\u001b[39;00m\u001b[39m.\u001b[39;00m\u001b[39mio\u001b[39;00m \u001b[39mas\u001b[39;00m \u001b[39mpio\u001b[39;00m\n\u001b[1;32m    833\u001b[0m \u001b[39mif\u001b[39;00m pio\u001b[39m.\u001b[39mrenderers\u001b[39m.\u001b[39mrender_on_display \u001b[39mand\u001b[39;00m pio\u001b[39m.\u001b[39mrenderers\u001b[39m.\u001b[39mdefault:\n\u001b[0;32m--> 834\u001b[0m     pio\u001b[39m.\u001b[39;49mshow(\u001b[39mself\u001b[39;49m)\n\u001b[1;32m    835\u001b[0m \u001b[39melse\u001b[39;00m:\n\u001b[1;32m    836\u001b[0m     \u001b[39mprint\u001b[39m(\u001b[39mrepr\u001b[39m(\u001b[39mself\u001b[39m))\n",
      "File \u001b[0;32m~/Documents/repos/Apache-Arrow-Tutorial/.venv/lib/python3.11/site-packages/plotly/io/_renderers.py:396\u001b[0m, in \u001b[0;36mshow\u001b[0;34m(fig, renderer, validate, **kwargs)\u001b[0m\n\u001b[1;32m    391\u001b[0m         \u001b[39mraise\u001b[39;00m \u001b[39mValueError\u001b[39;00m(\n\u001b[1;32m    392\u001b[0m             \u001b[39m\"\u001b[39m\u001b[39mMime type rendering requires ipython but it is not installed\u001b[39m\u001b[39m\"\u001b[39m\n\u001b[1;32m    393\u001b[0m         )\n\u001b[1;32m    395\u001b[0m     \u001b[39mif\u001b[39;00m \u001b[39mnot\u001b[39;00m nbformat \u001b[39mor\u001b[39;00m Version(nbformat\u001b[39m.\u001b[39m__version__) \u001b[39m<\u001b[39m Version(\u001b[39m\"\u001b[39m\u001b[39m4.2.0\u001b[39m\u001b[39m\"\u001b[39m):\n\u001b[0;32m--> 396\u001b[0m         \u001b[39mraise\u001b[39;00m \u001b[39mValueError\u001b[39;00m(\n\u001b[1;32m    397\u001b[0m             \u001b[39m\"\u001b[39m\u001b[39mMime type rendering requires nbformat>=4.2.0 but it is not installed\u001b[39m\u001b[39m\"\u001b[39m\n\u001b[1;32m    398\u001b[0m         )\n\u001b[1;32m    400\u001b[0m     ipython_display\u001b[39m.\u001b[39mdisplay(bundle, raw\u001b[39m=\u001b[39m\u001b[39mTrue\u001b[39;00m)\n\u001b[1;32m    402\u001b[0m \u001b[39m# external renderers\u001b[39;00m\n",
      "\u001b[0;31mValueError\u001b[0m: Mime type rendering requires nbformat>=4.2.0 but it is not installed"
     ]
    },
    {
     "data": {
      "application/vnd.plotly.v1+json": {
       "config": {
        "plotlyServerURL": "https://plot.ly"
       },
       "data": [
        {
         "alignmentgroup": "True",
         "hovertemplate": "1=Water<br>0=%{x}<br>2=%{y}<extra></extra>",
         "legendgroup": "Water",
         "marker": {
          "color": "#636efa",
          "pattern": {
           "shape": ""
          }
         },
         "name": "Water",
         "offsetgroup": "Water",
         "orientation": "v",
         "showlegend": true,
         "textposition": "auto",
         "type": "bar",
         "x": [
          "Starmie",
          "Slowbro",
          "SlowbroMega Slowbro",
          "Slowpoke"
         ],
         "xaxis": "x",
         "y": [
          115,
          30,
          30,
          15
         ],
         "yaxis": "y"
        },
        {
         "alignmentgroup": "True",
         "hovertemplate": "1=Grass<br>0=%{x}<br>2=%{y}<extra></extra>",
         "legendgroup": "Grass",
         "marker": {
          "color": "#EF553B",
          "pattern": {
           "shape": ""
          }
         },
         "name": "Grass",
         "offsetgroup": "Grass",
         "orientation": "v",
         "showlegend": true,
         "textposition": "auto",
         "type": "bar",
         "x": [
          "Exeggutor",
          "Exeggcute"
         ],
         "xaxis": "x",
         "y": [
          55,
          40
         ],
         "yaxis": "y"
        },
        {
         "alignmentgroup": "True",
         "hovertemplate": "1=Ice<br>0=%{x}<br>2=%{y}<extra></extra>",
         "legendgroup": "Ice",
         "marker": {
          "color": "#00cc96",
          "pattern": {
           "shape": ""
          }
         },
         "name": "Ice",
         "offsetgroup": "Ice",
         "orientation": "v",
         "showlegend": true,
         "textposition": "auto",
         "type": "bar",
         "x": [
          "Jynx"
         ],
         "xaxis": "x",
         "y": [
          95
         ],
         "yaxis": "y"
        }
       ],
       "layout": {
        "barmode": "relative",
        "legend": {
         "title": {
          "text": "1"
         },
         "tracegroupgap": 0
        },
        "template": {
         "data": {
          "bar": [
           {
            "error_x": {
             "color": "#2a3f5f"
            },
            "error_y": {
             "color": "#2a3f5f"
            },
            "marker": {
             "line": {
              "color": "#E5ECF6",
              "width": 0.5
             },
             "pattern": {
              "fillmode": "overlay",
              "size": 10,
              "solidity": 0.2
             }
            },
            "type": "bar"
           }
          ],
          "barpolar": [
           {
            "marker": {
             "line": {
              "color": "#E5ECF6",
              "width": 0.5
             },
             "pattern": {
              "fillmode": "overlay",
              "size": 10,
              "solidity": 0.2
             }
            },
            "type": "barpolar"
           }
          ],
          "carpet": [
           {
            "aaxis": {
             "endlinecolor": "#2a3f5f",
             "gridcolor": "white",
             "linecolor": "white",
             "minorgridcolor": "white",
             "startlinecolor": "#2a3f5f"
            },
            "baxis": {
             "endlinecolor": "#2a3f5f",
             "gridcolor": "white",
             "linecolor": "white",
             "minorgridcolor": "white",
             "startlinecolor": "#2a3f5f"
            },
            "type": "carpet"
           }
          ],
          "choropleth": [
           {
            "colorbar": {
             "outlinewidth": 0,
             "ticks": ""
            },
            "type": "choropleth"
           }
          ],
          "contour": [
           {
            "colorbar": {
             "outlinewidth": 0,
             "ticks": ""
            },
            "colorscale": [
             [
              0,
              "#0d0887"
             ],
             [
              0.1111111111111111,
              "#46039f"
             ],
             [
              0.2222222222222222,
              "#7201a8"
             ],
             [
              0.3333333333333333,
              "#9c179e"
             ],
             [
              0.4444444444444444,
              "#bd3786"
             ],
             [
              0.5555555555555556,
              "#d8576b"
             ],
             [
              0.6666666666666666,
              "#ed7953"
             ],
             [
              0.7777777777777778,
              "#fb9f3a"
             ],
             [
              0.8888888888888888,
              "#fdca26"
             ],
             [
              1,
              "#f0f921"
             ]
            ],
            "type": "contour"
           }
          ],
          "contourcarpet": [
           {
            "colorbar": {
             "outlinewidth": 0,
             "ticks": ""
            },
            "type": "contourcarpet"
           }
          ],
          "heatmap": [
           {
            "colorbar": {
             "outlinewidth": 0,
             "ticks": ""
            },
            "colorscale": [
             [
              0,
              "#0d0887"
             ],
             [
              0.1111111111111111,
              "#46039f"
             ],
             [
              0.2222222222222222,
              "#7201a8"
             ],
             [
              0.3333333333333333,
              "#9c179e"
             ],
             [
              0.4444444444444444,
              "#bd3786"
             ],
             [
              0.5555555555555556,
              "#d8576b"
             ],
             [
              0.6666666666666666,
              "#ed7953"
             ],
             [
              0.7777777777777778,
              "#fb9f3a"
             ],
             [
              0.8888888888888888,
              "#fdca26"
             ],
             [
              1,
              "#f0f921"
             ]
            ],
            "type": "heatmap"
           }
          ],
          "heatmapgl": [
           {
            "colorbar": {
             "outlinewidth": 0,
             "ticks": ""
            },
            "colorscale": [
             [
              0,
              "#0d0887"
             ],
             [
              0.1111111111111111,
              "#46039f"
             ],
             [
              0.2222222222222222,
              "#7201a8"
             ],
             [
              0.3333333333333333,
              "#9c179e"
             ],
             [
              0.4444444444444444,
              "#bd3786"
             ],
             [
              0.5555555555555556,
              "#d8576b"
             ],
             [
              0.6666666666666666,
              "#ed7953"
             ],
             [
              0.7777777777777778,
              "#fb9f3a"
             ],
             [
              0.8888888888888888,
              "#fdca26"
             ],
             [
              1,
              "#f0f921"
             ]
            ],
            "type": "heatmapgl"
           }
          ],
          "histogram": [
           {
            "marker": {
             "pattern": {
              "fillmode": "overlay",
              "size": 10,
              "solidity": 0.2
             }
            },
            "type": "histogram"
           }
          ],
          "histogram2d": [
           {
            "colorbar": {
             "outlinewidth": 0,
             "ticks": ""
            },
            "colorscale": [
             [
              0,
              "#0d0887"
             ],
             [
              0.1111111111111111,
              "#46039f"
             ],
             [
              0.2222222222222222,
              "#7201a8"
             ],
             [
              0.3333333333333333,
              "#9c179e"
             ],
             [
              0.4444444444444444,
              "#bd3786"
             ],
             [
              0.5555555555555556,
              "#d8576b"
             ],
             [
              0.6666666666666666,
              "#ed7953"
             ],
             [
              0.7777777777777778,
              "#fb9f3a"
             ],
             [
              0.8888888888888888,
              "#fdca26"
             ],
             [
              1,
              "#f0f921"
             ]
            ],
            "type": "histogram2d"
           }
          ],
          "histogram2dcontour": [
           {
            "colorbar": {
             "outlinewidth": 0,
             "ticks": ""
            },
            "colorscale": [
             [
              0,
              "#0d0887"
             ],
             [
              0.1111111111111111,
              "#46039f"
             ],
             [
              0.2222222222222222,
              "#7201a8"
             ],
             [
              0.3333333333333333,
              "#9c179e"
             ],
             [
              0.4444444444444444,
              "#bd3786"
             ],
             [
              0.5555555555555556,
              "#d8576b"
             ],
             [
              0.6666666666666666,
              "#ed7953"
             ],
             [
              0.7777777777777778,
              "#fb9f3a"
             ],
             [
              0.8888888888888888,
              "#fdca26"
             ],
             [
              1,
              "#f0f921"
             ]
            ],
            "type": "histogram2dcontour"
           }
          ],
          "mesh3d": [
           {
            "colorbar": {
             "outlinewidth": 0,
             "ticks": ""
            },
            "type": "mesh3d"
           }
          ],
          "parcoords": [
           {
            "line": {
             "colorbar": {
              "outlinewidth": 0,
              "ticks": ""
             }
            },
            "type": "parcoords"
           }
          ],
          "pie": [
           {
            "automargin": true,
            "type": "pie"
           }
          ],
          "scatter": [
           {
            "fillpattern": {
             "fillmode": "overlay",
             "size": 10,
             "solidity": 0.2
            },
            "type": "scatter"
           }
          ],
          "scatter3d": [
           {
            "line": {
             "colorbar": {
              "outlinewidth": 0,
              "ticks": ""
             }
            },
            "marker": {
             "colorbar": {
              "outlinewidth": 0,
              "ticks": ""
             }
            },
            "type": "scatter3d"
           }
          ],
          "scattercarpet": [
           {
            "marker": {
             "colorbar": {
              "outlinewidth": 0,
              "ticks": ""
             }
            },
            "type": "scattercarpet"
           }
          ],
          "scattergeo": [
           {
            "marker": {
             "colorbar": {
              "outlinewidth": 0,
              "ticks": ""
             }
            },
            "type": "scattergeo"
           }
          ],
          "scattergl": [
           {
            "marker": {
             "colorbar": {
              "outlinewidth": 0,
              "ticks": ""
             }
            },
            "type": "scattergl"
           }
          ],
          "scattermapbox": [
           {
            "marker": {
             "colorbar": {
              "outlinewidth": 0,
              "ticks": ""
             }
            },
            "type": "scattermapbox"
           }
          ],
          "scatterpolar": [
           {
            "marker": {
             "colorbar": {
              "outlinewidth": 0,
              "ticks": ""
             }
            },
            "type": "scatterpolar"
           }
          ],
          "scatterpolargl": [
           {
            "marker": {
             "colorbar": {
              "outlinewidth": 0,
              "ticks": ""
             }
            },
            "type": "scatterpolargl"
           }
          ],
          "scatterternary": [
           {
            "marker": {
             "colorbar": {
              "outlinewidth": 0,
              "ticks": ""
             }
            },
            "type": "scatterternary"
           }
          ],
          "surface": [
           {
            "colorbar": {
             "outlinewidth": 0,
             "ticks": ""
            },
            "colorscale": [
             [
              0,
              "#0d0887"
             ],
             [
              0.1111111111111111,
              "#46039f"
             ],
             [
              0.2222222222222222,
              "#7201a8"
             ],
             [
              0.3333333333333333,
              "#9c179e"
             ],
             [
              0.4444444444444444,
              "#bd3786"
             ],
             [
              0.5555555555555556,
              "#d8576b"
             ],
             [
              0.6666666666666666,
              "#ed7953"
             ],
             [
              0.7777777777777778,
              "#fb9f3a"
             ],
             [
              0.8888888888888888,
              "#fdca26"
             ],
             [
              1,
              "#f0f921"
             ]
            ],
            "type": "surface"
           }
          ],
          "table": [
           {
            "cells": {
             "fill": {
              "color": "#EBF0F8"
             },
             "line": {
              "color": "white"
             }
            },
            "header": {
             "fill": {
              "color": "#C8D4E3"
             },
             "line": {
              "color": "white"
             }
            },
            "type": "table"
           }
          ]
         },
         "layout": {
          "annotationdefaults": {
           "arrowcolor": "#2a3f5f",
           "arrowhead": 0,
           "arrowwidth": 1
          },
          "autotypenumbers": "strict",
          "coloraxis": {
           "colorbar": {
            "outlinewidth": 0,
            "ticks": ""
           }
          },
          "colorscale": {
           "diverging": [
            [
             0,
             "#8e0152"
            ],
            [
             0.1,
             "#c51b7d"
            ],
            [
             0.2,
             "#de77ae"
            ],
            [
             0.3,
             "#f1b6da"
            ],
            [
             0.4,
             "#fde0ef"
            ],
            [
             0.5,
             "#f7f7f7"
            ],
            [
             0.6,
             "#e6f5d0"
            ],
            [
             0.7,
             "#b8e186"
            ],
            [
             0.8,
             "#7fbc41"
            ],
            [
             0.9,
             "#4d9221"
            ],
            [
             1,
             "#276419"
            ]
           ],
           "sequential": [
            [
             0,
             "#0d0887"
            ],
            [
             0.1111111111111111,
             "#46039f"
            ],
            [
             0.2222222222222222,
             "#7201a8"
            ],
            [
             0.3333333333333333,
             "#9c179e"
            ],
            [
             0.4444444444444444,
             "#bd3786"
            ],
            [
             0.5555555555555556,
             "#d8576b"
            ],
            [
             0.6666666666666666,
             "#ed7953"
            ],
            [
             0.7777777777777778,
             "#fb9f3a"
            ],
            [
             0.8888888888888888,
             "#fdca26"
            ],
            [
             1,
             "#f0f921"
            ]
           ],
           "sequentialminus": [
            [
             0,
             "#0d0887"
            ],
            [
             0.1111111111111111,
             "#46039f"
            ],
            [
             0.2222222222222222,
             "#7201a8"
            ],
            [
             0.3333333333333333,
             "#9c179e"
            ],
            [
             0.4444444444444444,
             "#bd3786"
            ],
            [
             0.5555555555555556,
             "#d8576b"
            ],
            [
             0.6666666666666666,
             "#ed7953"
            ],
            [
             0.7777777777777778,
             "#fb9f3a"
            ],
            [
             0.8888888888888888,
             "#fdca26"
            ],
            [
             1,
             "#f0f921"
            ]
           ]
          },
          "colorway": [
           "#636efa",
           "#EF553B",
           "#00cc96",
           "#ab63fa",
           "#FFA15A",
           "#19d3f3",
           "#FF6692",
           "#B6E880",
           "#FF97FF",
           "#FECB52"
          ],
          "font": {
           "color": "#2a3f5f"
          },
          "geo": {
           "bgcolor": "white",
           "lakecolor": "white",
           "landcolor": "#E5ECF6",
           "showlakes": true,
           "showland": true,
           "subunitcolor": "white"
          },
          "hoverlabel": {
           "align": "left"
          },
          "hovermode": "closest",
          "mapbox": {
           "style": "light"
          },
          "paper_bgcolor": "white",
          "plot_bgcolor": "#E5ECF6",
          "polar": {
           "angularaxis": {
            "gridcolor": "white",
            "linecolor": "white",
            "ticks": ""
           },
           "bgcolor": "#E5ECF6",
           "radialaxis": {
            "gridcolor": "white",
            "linecolor": "white",
            "ticks": ""
           }
          },
          "scene": {
           "xaxis": {
            "backgroundcolor": "#E5ECF6",
            "gridcolor": "white",
            "gridwidth": 2,
            "linecolor": "white",
            "showbackground": true,
            "ticks": "",
            "zerolinecolor": "white"
           },
           "yaxis": {
            "backgroundcolor": "#E5ECF6",
            "gridcolor": "white",
            "gridwidth": 2,
            "linecolor": "white",
            "showbackground": true,
            "ticks": "",
            "zerolinecolor": "white"
           },
           "zaxis": {
            "backgroundcolor": "#E5ECF6",
            "gridcolor": "white",
            "gridwidth": 2,
            "linecolor": "white",
            "showbackground": true,
            "ticks": "",
            "zerolinecolor": "white"
           }
          },
          "shapedefaults": {
           "line": {
            "color": "#2a3f5f"
           }
          },
          "ternary": {
           "aaxis": {
            "gridcolor": "white",
            "linecolor": "white",
            "ticks": ""
           },
           "baxis": {
            "gridcolor": "white",
            "linecolor": "white",
            "ticks": ""
           },
           "bgcolor": "#E5ECF6",
           "caxis": {
            "gridcolor": "white",
            "linecolor": "white",
            "ticks": ""
           }
          },
          "title": {
           "x": 0.05
          },
          "xaxis": {
           "automargin": true,
           "gridcolor": "white",
           "linecolor": "white",
           "ticks": "",
           "title": {
            "standoff": 15
           },
           "zerolinecolor": "white",
           "zerolinewidth": 2
          },
          "yaxis": {
           "automargin": true,
           "gridcolor": "white",
           "linecolor": "white",
           "ticks": "",
           "title": {
            "standoff": 15
           },
           "zerolinecolor": "white",
           "zerolinewidth": 2
          }
         }
        },
        "title": {
         "text": "test"
        },
        "xaxis": {
         "anchor": "y",
         "domain": [
          0,
          1
         ],
         "title": {
          "text": "0"
         }
        },
        "yaxis": {
         "anchor": "x",
         "domain": [
          0,
          1
         ],
         "title": {
          "text": "2"
         }
        }
       }
      },
      "text/html": [
       "<div>                        <script type=\"text/javascript\">window.PlotlyConfig = {MathJaxConfig: 'local'};</script>\n",
       "        <script charset=\"utf-8\" src=\"https://cdn.plot.ly/plotly-2.20.0.min.js\"></script>                <div id=\"9b068b33-6ad0-4711-b97d-328735c18ab9\" class=\"plotly-graph-div\" style=\"height:100%; width:100%;\"></div>            <script type=\"text/javascript\">                                    window.PLOTLYENV=window.PLOTLYENV || {};                                    if (document.getElementById(\"9b068b33-6ad0-4711-b97d-328735c18ab9\")) {                    Plotly.newPlot(                        \"9b068b33-6ad0-4711-b97d-328735c18ab9\",                        [{\"alignmentgroup\":\"True\",\"hovertemplate\":\"1=Water<br>0=%{x}<br>2=%{y}<extra></extra>\",\"legendgroup\":\"Water\",\"marker\":{\"color\":\"#636efa\",\"pattern\":{\"shape\":\"\"}},\"name\":\"Water\",\"offsetgroup\":\"Water\",\"orientation\":\"v\",\"showlegend\":true,\"textposition\":\"auto\",\"x\":[\"Starmie\",\"Slowbro\",\"SlowbroMega Slowbro\",\"Slowpoke\"],\"xaxis\":\"x\",\"y\":[115,30,30,15],\"yaxis\":\"y\",\"type\":\"bar\"},{\"alignmentgroup\":\"True\",\"hovertemplate\":\"1=Grass<br>0=%{x}<br>2=%{y}<extra></extra>\",\"legendgroup\":\"Grass\",\"marker\":{\"color\":\"#EF553B\",\"pattern\":{\"shape\":\"\"}},\"name\":\"Grass\",\"offsetgroup\":\"Grass\",\"orientation\":\"v\",\"showlegend\":true,\"textposition\":\"auto\",\"x\":[\"Exeggutor\",\"Exeggcute\"],\"xaxis\":\"x\",\"y\":[55,40],\"yaxis\":\"y\",\"type\":\"bar\"},{\"alignmentgroup\":\"True\",\"hovertemplate\":\"1=Ice<br>0=%{x}<br>2=%{y}<extra></extra>\",\"legendgroup\":\"Ice\",\"marker\":{\"color\":\"#00cc96\",\"pattern\":{\"shape\":\"\"}},\"name\":\"Ice\",\"offsetgroup\":\"Ice\",\"orientation\":\"v\",\"showlegend\":true,\"textposition\":\"auto\",\"x\":[\"Jynx\"],\"xaxis\":\"x\",\"y\":[95],\"yaxis\":\"y\",\"type\":\"bar\"}],                        {\"template\":{\"data\":{\"histogram2dcontour\":[{\"type\":\"histogram2dcontour\",\"colorbar\":{\"outlinewidth\":0,\"ticks\":\"\"},\"colorscale\":[[0.0,\"#0d0887\"],[0.1111111111111111,\"#46039f\"],[0.2222222222222222,\"#7201a8\"],[0.3333333333333333,\"#9c179e\"],[0.4444444444444444,\"#bd3786\"],[0.5555555555555556,\"#d8576b\"],[0.6666666666666666,\"#ed7953\"],[0.7777777777777778,\"#fb9f3a\"],[0.8888888888888888,\"#fdca26\"],[1.0,\"#f0f921\"]]}],\"choropleth\":[{\"type\":\"choropleth\",\"colorbar\":{\"outlinewidth\":0,\"ticks\":\"\"}}],\"histogram2d\":[{\"type\":\"histogram2d\",\"colorbar\":{\"outlinewidth\":0,\"ticks\":\"\"},\"colorscale\":[[0.0,\"#0d0887\"],[0.1111111111111111,\"#46039f\"],[0.2222222222222222,\"#7201a8\"],[0.3333333333333333,\"#9c179e\"],[0.4444444444444444,\"#bd3786\"],[0.5555555555555556,\"#d8576b\"],[0.6666666666666666,\"#ed7953\"],[0.7777777777777778,\"#fb9f3a\"],[0.8888888888888888,\"#fdca26\"],[1.0,\"#f0f921\"]]}],\"heatmap\":[{\"type\":\"heatmap\",\"colorbar\":{\"outlinewidth\":0,\"ticks\":\"\"},\"colorscale\":[[0.0,\"#0d0887\"],[0.1111111111111111,\"#46039f\"],[0.2222222222222222,\"#7201a8\"],[0.3333333333333333,\"#9c179e\"],[0.4444444444444444,\"#bd3786\"],[0.5555555555555556,\"#d8576b\"],[0.6666666666666666,\"#ed7953\"],[0.7777777777777778,\"#fb9f3a\"],[0.8888888888888888,\"#fdca26\"],[1.0,\"#f0f921\"]]}],\"heatmapgl\":[{\"type\":\"heatmapgl\",\"colorbar\":{\"outlinewidth\":0,\"ticks\":\"\"},\"colorscale\":[[0.0,\"#0d0887\"],[0.1111111111111111,\"#46039f\"],[0.2222222222222222,\"#7201a8\"],[0.3333333333333333,\"#9c179e\"],[0.4444444444444444,\"#bd3786\"],[0.5555555555555556,\"#d8576b\"],[0.6666666666666666,\"#ed7953\"],[0.7777777777777778,\"#fb9f3a\"],[0.8888888888888888,\"#fdca26\"],[1.0,\"#f0f921\"]]}],\"contourcarpet\":[{\"type\":\"contourcarpet\",\"colorbar\":{\"outlinewidth\":0,\"ticks\":\"\"}}],\"contour\":[{\"type\":\"contour\",\"colorbar\":{\"outlinewidth\":0,\"ticks\":\"\"},\"colorscale\":[[0.0,\"#0d0887\"],[0.1111111111111111,\"#46039f\"],[0.2222222222222222,\"#7201a8\"],[0.3333333333333333,\"#9c179e\"],[0.4444444444444444,\"#bd3786\"],[0.5555555555555556,\"#d8576b\"],[0.6666666666666666,\"#ed7953\"],[0.7777777777777778,\"#fb9f3a\"],[0.8888888888888888,\"#fdca26\"],[1.0,\"#f0f921\"]]}],\"surface\":[{\"type\":\"surface\",\"colorbar\":{\"outlinewidth\":0,\"ticks\":\"\"},\"colorscale\":[[0.0,\"#0d0887\"],[0.1111111111111111,\"#46039f\"],[0.2222222222222222,\"#7201a8\"],[0.3333333333333333,\"#9c179e\"],[0.4444444444444444,\"#bd3786\"],[0.5555555555555556,\"#d8576b\"],[0.6666666666666666,\"#ed7953\"],[0.7777777777777778,\"#fb9f3a\"],[0.8888888888888888,\"#fdca26\"],[1.0,\"#f0f921\"]]}],\"mesh3d\":[{\"type\":\"mesh3d\",\"colorbar\":{\"outlinewidth\":0,\"ticks\":\"\"}}],\"scatter\":[{\"fillpattern\":{\"fillmode\":\"overlay\",\"size\":10,\"solidity\":0.2},\"type\":\"scatter\"}],\"parcoords\":[{\"type\":\"parcoords\",\"line\":{\"colorbar\":{\"outlinewidth\":0,\"ticks\":\"\"}}}],\"scatterpolargl\":[{\"type\":\"scatterpolargl\",\"marker\":{\"colorbar\":{\"outlinewidth\":0,\"ticks\":\"\"}}}],\"bar\":[{\"error_x\":{\"color\":\"#2a3f5f\"},\"error_y\":{\"color\":\"#2a3f5f\"},\"marker\":{\"line\":{\"color\":\"#E5ECF6\",\"width\":0.5},\"pattern\":{\"fillmode\":\"overlay\",\"size\":10,\"solidity\":0.2}},\"type\":\"bar\"}],\"scattergeo\":[{\"type\":\"scattergeo\",\"marker\":{\"colorbar\":{\"outlinewidth\":0,\"ticks\":\"\"}}}],\"scatterpolar\":[{\"type\":\"scatterpolar\",\"marker\":{\"colorbar\":{\"outlinewidth\":0,\"ticks\":\"\"}}}],\"histogram\":[{\"marker\":{\"pattern\":{\"fillmode\":\"overlay\",\"size\":10,\"solidity\":0.2}},\"type\":\"histogram\"}],\"scattergl\":[{\"type\":\"scattergl\",\"marker\":{\"colorbar\":{\"outlinewidth\":0,\"ticks\":\"\"}}}],\"scatter3d\":[{\"type\":\"scatter3d\",\"line\":{\"colorbar\":{\"outlinewidth\":0,\"ticks\":\"\"}},\"marker\":{\"colorbar\":{\"outlinewidth\":0,\"ticks\":\"\"}}}],\"scattermapbox\":[{\"type\":\"scattermapbox\",\"marker\":{\"colorbar\":{\"outlinewidth\":0,\"ticks\":\"\"}}}],\"scatterternary\":[{\"type\":\"scatterternary\",\"marker\":{\"colorbar\":{\"outlinewidth\":0,\"ticks\":\"\"}}}],\"scattercarpet\":[{\"type\":\"scattercarpet\",\"marker\":{\"colorbar\":{\"outlinewidth\":0,\"ticks\":\"\"}}}],\"carpet\":[{\"aaxis\":{\"endlinecolor\":\"#2a3f5f\",\"gridcolor\":\"white\",\"linecolor\":\"white\",\"minorgridcolor\":\"white\",\"startlinecolor\":\"#2a3f5f\"},\"baxis\":{\"endlinecolor\":\"#2a3f5f\",\"gridcolor\":\"white\",\"linecolor\":\"white\",\"minorgridcolor\":\"white\",\"startlinecolor\":\"#2a3f5f\"},\"type\":\"carpet\"}],\"table\":[{\"cells\":{\"fill\":{\"color\":\"#EBF0F8\"},\"line\":{\"color\":\"white\"}},\"header\":{\"fill\":{\"color\":\"#C8D4E3\"},\"line\":{\"color\":\"white\"}},\"type\":\"table\"}],\"barpolar\":[{\"marker\":{\"line\":{\"color\":\"#E5ECF6\",\"width\":0.5},\"pattern\":{\"fillmode\":\"overlay\",\"size\":10,\"solidity\":0.2}},\"type\":\"barpolar\"}],\"pie\":[{\"automargin\":true,\"type\":\"pie\"}]},\"layout\":{\"autotypenumbers\":\"strict\",\"colorway\":[\"#636efa\",\"#EF553B\",\"#00cc96\",\"#ab63fa\",\"#FFA15A\",\"#19d3f3\",\"#FF6692\",\"#B6E880\",\"#FF97FF\",\"#FECB52\"],\"font\":{\"color\":\"#2a3f5f\"},\"hovermode\":\"closest\",\"hoverlabel\":{\"align\":\"left\"},\"paper_bgcolor\":\"white\",\"plot_bgcolor\":\"#E5ECF6\",\"polar\":{\"bgcolor\":\"#E5ECF6\",\"angularaxis\":{\"gridcolor\":\"white\",\"linecolor\":\"white\",\"ticks\":\"\"},\"radialaxis\":{\"gridcolor\":\"white\",\"linecolor\":\"white\",\"ticks\":\"\"}},\"ternary\":{\"bgcolor\":\"#E5ECF6\",\"aaxis\":{\"gridcolor\":\"white\",\"linecolor\":\"white\",\"ticks\":\"\"},\"baxis\":{\"gridcolor\":\"white\",\"linecolor\":\"white\",\"ticks\":\"\"},\"caxis\":{\"gridcolor\":\"white\",\"linecolor\":\"white\",\"ticks\":\"\"}},\"coloraxis\":{\"colorbar\":{\"outlinewidth\":0,\"ticks\":\"\"}},\"colorscale\":{\"sequential\":[[0.0,\"#0d0887\"],[0.1111111111111111,\"#46039f\"],[0.2222222222222222,\"#7201a8\"],[0.3333333333333333,\"#9c179e\"],[0.4444444444444444,\"#bd3786\"],[0.5555555555555556,\"#d8576b\"],[0.6666666666666666,\"#ed7953\"],[0.7777777777777778,\"#fb9f3a\"],[0.8888888888888888,\"#fdca26\"],[1.0,\"#f0f921\"]],\"sequentialminus\":[[0.0,\"#0d0887\"],[0.1111111111111111,\"#46039f\"],[0.2222222222222222,\"#7201a8\"],[0.3333333333333333,\"#9c179e\"],[0.4444444444444444,\"#bd3786\"],[0.5555555555555556,\"#d8576b\"],[0.6666666666666666,\"#ed7953\"],[0.7777777777777778,\"#fb9f3a\"],[0.8888888888888888,\"#fdca26\"],[1.0,\"#f0f921\"]],\"diverging\":[[0,\"#8e0152\"],[0.1,\"#c51b7d\"],[0.2,\"#de77ae\"],[0.3,\"#f1b6da\"],[0.4,\"#fde0ef\"],[0.5,\"#f7f7f7\"],[0.6,\"#e6f5d0\"],[0.7,\"#b8e186\"],[0.8,\"#7fbc41\"],[0.9,\"#4d9221\"],[1,\"#276419\"]]},\"xaxis\":{\"gridcolor\":\"white\",\"linecolor\":\"white\",\"ticks\":\"\",\"title\":{\"standoff\":15},\"zerolinecolor\":\"white\",\"automargin\":true,\"zerolinewidth\":2},\"yaxis\":{\"gridcolor\":\"white\",\"linecolor\":\"white\",\"ticks\":\"\",\"title\":{\"standoff\":15},\"zerolinecolor\":\"white\",\"automargin\":true,\"zerolinewidth\":2},\"scene\":{\"xaxis\":{\"backgroundcolor\":\"#E5ECF6\",\"gridcolor\":\"white\",\"linecolor\":\"white\",\"showbackground\":true,\"ticks\":\"\",\"zerolinecolor\":\"white\",\"gridwidth\":2},\"yaxis\":{\"backgroundcolor\":\"#E5ECF6\",\"gridcolor\":\"white\",\"linecolor\":\"white\",\"showbackground\":true,\"ticks\":\"\",\"zerolinecolor\":\"white\",\"gridwidth\":2},\"zaxis\":{\"backgroundcolor\":\"#E5ECF6\",\"gridcolor\":\"white\",\"linecolor\":\"white\",\"showbackground\":true,\"ticks\":\"\",\"zerolinecolor\":\"white\",\"gridwidth\":2}},\"shapedefaults\":{\"line\":{\"color\":\"#2a3f5f\"}},\"annotationdefaults\":{\"arrowcolor\":\"#2a3f5f\",\"arrowhead\":0,\"arrowwidth\":1},\"geo\":{\"bgcolor\":\"white\",\"landcolor\":\"#E5ECF6\",\"subunitcolor\":\"white\",\"showland\":true,\"showlakes\":true,\"lakecolor\":\"white\"},\"title\":{\"x\":0.05},\"mapbox\":{\"style\":\"light\"}}},\"xaxis\":{\"anchor\":\"y\",\"domain\":[0.0,1.0],\"title\":{\"text\":\"0\"}},\"yaxis\":{\"anchor\":\"x\",\"domain\":[0.0,1.0],\"title\":{\"text\":\"2\"}},\"legend\":{\"title\":{\"text\":\"1\"},\"tracegroupgap\":0},\"title\":{\"text\":\"test\"},\"barmode\":\"relative\"},                        {\"responsive\": true}                    )                };                            </script>        </div>"
      ],
      "text/plain": [
       "Figure({\n",
       "    'data': [{'alignmentgroup': 'True',\n",
       "              'hovertemplate': '1=Water<br>0=%{x}<br>2=%{y}<extra></extra>',\n",
       "              'legendgroup': 'Water',\n",
       "              'marker': {'color': '#636efa', 'pattern': {'shape': ''}},\n",
       "              'name': 'Water',\n",
       "              'offsetgroup': 'Water',\n",
       "              'orientation': 'v',\n",
       "              'showlegend': True,\n",
       "              'textposition': 'auto',\n",
       "              'type': 'bar',\n",
       "              'x': array(['Starmie', 'Slowbro', 'SlowbroMega Slowbro', 'Slowpoke'], dtype=object),\n",
       "              'xaxis': 'x',\n",
       "              'y': array([115, 30, 30, 15], dtype=object),\n",
       "              'yaxis': 'y'},\n",
       "             {'alignmentgroup': 'True',\n",
       "              'hovertemplate': '1=Grass<br>0=%{x}<br>2=%{y}<extra></extra>',\n",
       "              'legendgroup': 'Grass',\n",
       "              'marker': {'color': '#EF553B', 'pattern': {'shape': ''}},\n",
       "              'name': 'Grass',\n",
       "              'offsetgroup': 'Grass',\n",
       "              'orientation': 'v',\n",
       "              'showlegend': True,\n",
       "              'textposition': 'auto',\n",
       "              'type': 'bar',\n",
       "              'x': array(['Exeggutor', 'Exeggcute'], dtype=object),\n",
       "              'xaxis': 'x',\n",
       "              'y': array([55, 40], dtype=object),\n",
       "              'yaxis': 'y'},\n",
       "             {'alignmentgroup': 'True',\n",
       "              'hovertemplate': '1=Ice<br>0=%{x}<br>2=%{y}<extra></extra>',\n",
       "              'legendgroup': 'Ice',\n",
       "              'marker': {'color': '#00cc96', 'pattern': {'shape': ''}},\n",
       "              'name': 'Ice',\n",
       "              'offsetgroup': 'Ice',\n",
       "              'orientation': 'v',\n",
       "              'showlegend': True,\n",
       "              'textposition': 'auto',\n",
       "              'type': 'bar',\n",
       "              'x': array(['Jynx'], dtype=object),\n",
       "              'xaxis': 'x',\n",
       "              'y': array([95], dtype=object),\n",
       "              'yaxis': 'y'}],\n",
       "    'layout': {'barmode': 'relative',\n",
       "               'legend': {'title': {'text': '1'}, 'tracegroupgap': 0},\n",
       "               'template': '...',\n",
       "               'title': {'text': 'test'},\n",
       "               'xaxis': {'anchor': 'y', 'domain': [0.0, 1.0], 'title': {'text': '0'}},\n",
       "               'yaxis': {'anchor': 'x', 'domain': [0.0, 1.0], 'title': {'text': '2'}}}\n",
       "})"
      ]
     },
     "metadata": {},
     "output_type": "display_data"
    }
   ],
   "source": [
    "fig2 = px.bar(out, x=0, y=2, color=1, title='test')\n",
    "\n",
    "display(fig2)"
   ]
  }
 ],
 "metadata": {
  "kernelspec": {
   "display_name": ".venv",
   "language": "python",
   "name": "python3"
  },
  "language_info": {
   "codemirror_mode": {
    "name": "ipython",
    "version": 3
   },
   "file_extension": ".py",
   "mimetype": "text/x-python",
   "name": "python",
   "nbconvert_exporter": "python",
   "pygments_lexer": "ipython3",
   "version": "3.11.2"
  },
  "orig_nbformat": 4
 },
 "nbformat": 4,
 "nbformat_minor": 2
}
